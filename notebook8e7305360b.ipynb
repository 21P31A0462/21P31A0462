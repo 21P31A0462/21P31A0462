{
 "cells": [
  {
   "cell_type": "code",
   "execution_count": 1,
   "id": "9e62ba6e",
   "metadata": {
    "execution": {
     "iopub.execute_input": "2023-06-14T03:08:39.690734Z",
     "iopub.status.busy": "2023-06-14T03:08:39.690373Z",
     "iopub.status.idle": "2023-06-14T03:08:39.701454Z",
     "shell.execute_reply": "2023-06-14T03:08:39.700571Z"
    },
    "executionInfo": {
     "elapsed": 585,
     "status": "ok",
     "timestamp": 1686710612716,
     "user": {
      "displayName": "Venu V",
      "userId": "08098080155789612531"
     },
     "user_tz": -330
    },
    "id": "1ZSmu7esxIEp",
    "papermill": {
     "duration": 0.03294,
     "end_time": "2023-06-14T03:08:39.703687",
     "exception": false,
     "start_time": "2023-06-14T03:08:39.670747",
     "status": "completed"
    },
    "tags": []
   },
   "outputs": [],
   "source": [
    "import pandas as pd"
   ]
  },
  {
   "cell_type": "code",
   "execution_count": 2,
   "id": "30ec1356",
   "metadata": {
    "execution": {
     "iopub.execute_input": "2023-06-14T03:08:39.741211Z",
     "iopub.status.busy": "2023-06-14T03:08:39.740777Z",
     "iopub.status.idle": "2023-06-14T03:08:39.745182Z",
     "shell.execute_reply": "2023-06-14T03:08:39.744169Z"
    },
    "executionInfo": {
     "elapsed": 488,
     "status": "ok",
     "timestamp": 1686710624211,
     "user": {
      "displayName": "Venu V",
      "userId": "08098080155789612531"
     },
     "user_tz": -330
    },
    "id": "nFK3E8waxIH2",
    "papermill": {
     "duration": 0.02603,
     "end_time": "2023-06-14T03:08:39.747588",
     "exception": false,
     "start_time": "2023-06-14T03:08:39.721558",
     "status": "completed"
    },
    "tags": []
   },
   "outputs": [],
   "source": [
    "import numpy as np"
   ]
  },
  {
   "cell_type": "code",
   "execution_count": 3,
   "id": "9bfd356f",
   "metadata": {
    "execution": {
     "iopub.execute_input": "2023-06-14T03:08:39.784704Z",
     "iopub.status.busy": "2023-06-14T03:08:39.784076Z",
     "iopub.status.idle": "2023-06-14T03:08:40.088562Z",
     "shell.execute_reply": "2023-06-14T03:08:40.087324Z"
    },
    "executionInfo": {
     "elapsed": 1181,
     "status": "ok",
     "timestamp": 1686710640726,
     "user": {
      "displayName": "Venu V",
      "userId": "08098080155789612531"
     },
     "user_tz": -330
    },
    "id": "2S-EVDEIxINk",
    "papermill": {
     "duration": 0.3263,
     "end_time": "2023-06-14T03:08:40.091506",
     "exception": false,
     "start_time": "2023-06-14T03:08:39.765206",
     "status": "completed"
    },
    "tags": []
   },
   "outputs": [],
   "source": [
    "df = pd.read_csv('https://raw.githubusercontent.com/Lorddhaval/Dataset/main/WhiteWineQuality.csv', sep=';')"
   ]
  },
  {
   "cell_type": "code",
   "execution_count": 4,
   "id": "623a6646",
   "metadata": {
    "execution": {
     "iopub.execute_input": "2023-06-14T03:08:40.128227Z",
     "iopub.status.busy": "2023-06-14T03:08:40.127831Z",
     "iopub.status.idle": "2023-06-14T03:08:40.169024Z",
     "shell.execute_reply": "2023-06-14T03:08:40.167749Z"
    },
    "executionInfo": {
     "elapsed": 11,
     "status": "ok",
     "timestamp": 1686710656992,
     "user": {
      "displayName": "Venu V",
      "userId": "08098080155789612531"
     },
     "user_tz": -330
    },
    "id": "3prjcXiVxIQu",
    "outputId": "f3c7fd74-c1cf-417d-ed36-cf212c6f0c6c",
    "papermill": {
     "duration": 0.062709,
     "end_time": "2023-06-14T03:08:40.171854",
     "exception": false,
     "start_time": "2023-06-14T03:08:40.109145",
     "status": "completed"
    },
    "tags": []
   },
   "outputs": [
    {
     "data": {
      "text/html": [
       "<div>\n",
       "<style scoped>\n",
       "    .dataframe tbody tr th:only-of-type {\n",
       "        vertical-align: middle;\n",
       "    }\n",
       "\n",
       "    .dataframe tbody tr th {\n",
       "        vertical-align: top;\n",
       "    }\n",
       "\n",
       "    .dataframe thead th {\n",
       "        text-align: right;\n",
       "    }\n",
       "</style>\n",
       "<table border=\"1\" class=\"dataframe\">\n",
       "  <thead>\n",
       "    <tr style=\"text-align: right;\">\n",
       "      <th></th>\n",
       "      <th>fixed acidity</th>\n",
       "      <th>volatile acidity</th>\n",
       "      <th>citric acid</th>\n",
       "      <th>residual sugar</th>\n",
       "      <th>chlorides</th>\n",
       "      <th>free sulfur dioxide</th>\n",
       "      <th>total sulfur dioxide</th>\n",
       "      <th>density</th>\n",
       "      <th>pH</th>\n",
       "      <th>sulphates</th>\n",
       "      <th>alcohol</th>\n",
       "      <th>quality</th>\n",
       "    </tr>\n",
       "  </thead>\n",
       "  <tbody>\n",
       "    <tr>\n",
       "      <th>0</th>\n",
       "      <td>7.0</td>\n",
       "      <td>0.27</td>\n",
       "      <td>0.36</td>\n",
       "      <td>20.7</td>\n",
       "      <td>0.045</td>\n",
       "      <td>45.0</td>\n",
       "      <td>170.0</td>\n",
       "      <td>1.0010</td>\n",
       "      <td>3.00</td>\n",
       "      <td>0.45</td>\n",
       "      <td>8.8</td>\n",
       "      <td>6</td>\n",
       "    </tr>\n",
       "    <tr>\n",
       "      <th>1</th>\n",
       "      <td>6.3</td>\n",
       "      <td>0.30</td>\n",
       "      <td>0.34</td>\n",
       "      <td>1.6</td>\n",
       "      <td>0.049</td>\n",
       "      <td>14.0</td>\n",
       "      <td>132.0</td>\n",
       "      <td>0.9940</td>\n",
       "      <td>3.30</td>\n",
       "      <td>0.49</td>\n",
       "      <td>9.5</td>\n",
       "      <td>6</td>\n",
       "    </tr>\n",
       "    <tr>\n",
       "      <th>2</th>\n",
       "      <td>8.1</td>\n",
       "      <td>0.28</td>\n",
       "      <td>0.40</td>\n",
       "      <td>6.9</td>\n",
       "      <td>0.050</td>\n",
       "      <td>30.0</td>\n",
       "      <td>97.0</td>\n",
       "      <td>0.9951</td>\n",
       "      <td>3.26</td>\n",
       "      <td>0.44</td>\n",
       "      <td>10.1</td>\n",
       "      <td>6</td>\n",
       "    </tr>\n",
       "    <tr>\n",
       "      <th>3</th>\n",
       "      <td>7.2</td>\n",
       "      <td>0.23</td>\n",
       "      <td>0.32</td>\n",
       "      <td>8.5</td>\n",
       "      <td>0.058</td>\n",
       "      <td>47.0</td>\n",
       "      <td>186.0</td>\n",
       "      <td>0.9956</td>\n",
       "      <td>3.19</td>\n",
       "      <td>0.40</td>\n",
       "      <td>9.9</td>\n",
       "      <td>6</td>\n",
       "    </tr>\n",
       "    <tr>\n",
       "      <th>4</th>\n",
       "      <td>7.2</td>\n",
       "      <td>0.23</td>\n",
       "      <td>0.32</td>\n",
       "      <td>8.5</td>\n",
       "      <td>0.058</td>\n",
       "      <td>47.0</td>\n",
       "      <td>186.0</td>\n",
       "      <td>0.9956</td>\n",
       "      <td>3.19</td>\n",
       "      <td>0.40</td>\n",
       "      <td>9.9</td>\n",
       "      <td>6</td>\n",
       "    </tr>\n",
       "  </tbody>\n",
       "</table>\n",
       "</div>"
      ],
      "text/plain": [
       "   fixed acidity  volatile acidity  citric acid  residual sugar  chlorides  \\\n",
       "0            7.0              0.27         0.36            20.7      0.045   \n",
       "1            6.3              0.30         0.34             1.6      0.049   \n",
       "2            8.1              0.28         0.40             6.9      0.050   \n",
       "3            7.2              0.23         0.32             8.5      0.058   \n",
       "4            7.2              0.23         0.32             8.5      0.058   \n",
       "\n",
       "   free sulfur dioxide  total sulfur dioxide  density    pH  sulphates  \\\n",
       "0                 45.0                 170.0   1.0010  3.00       0.45   \n",
       "1                 14.0                 132.0   0.9940  3.30       0.49   \n",
       "2                 30.0                  97.0   0.9951  3.26       0.44   \n",
       "3                 47.0                 186.0   0.9956  3.19       0.40   \n",
       "4                 47.0                 186.0   0.9956  3.19       0.40   \n",
       "\n",
       "   alcohol  quality  \n",
       "0      8.8        6  \n",
       "1      9.5        6  \n",
       "2     10.1        6  \n",
       "3      9.9        6  \n",
       "4      9.9        6  "
      ]
     },
     "execution_count": 4,
     "metadata": {},
     "output_type": "execute_result"
    }
   ],
   "source": [
    "df.head()"
   ]
  },
  {
   "cell_type": "code",
   "execution_count": 5,
   "id": "d4cf4755",
   "metadata": {
    "execution": {
     "iopub.execute_input": "2023-06-14T03:08:40.209809Z",
     "iopub.status.busy": "2023-06-14T03:08:40.209445Z",
     "iopub.status.idle": "2023-06-14T03:08:40.236721Z",
     "shell.execute_reply": "2023-06-14T03:08:40.234808Z"
    },
    "executionInfo": {
     "elapsed": 450,
     "status": "ok",
     "timestamp": 1686710674131,
     "user": {
      "displayName": "Venu V",
      "userId": "08098080155789612531"
     },
     "user_tz": -330
    },
    "id": "vIlKOtCOxITc",
    "outputId": "7f7a6c56-3df9-4d16-f7b2-6b819e281232",
    "papermill": {
     "duration": 0.049337,
     "end_time": "2023-06-14T03:08:40.239337",
     "exception": false,
     "start_time": "2023-06-14T03:08:40.190000",
     "status": "completed"
    },
    "tags": []
   },
   "outputs": [
    {
     "name": "stdout",
     "output_type": "stream",
     "text": [
      "<class 'pandas.core.frame.DataFrame'>\n",
      "RangeIndex: 4898 entries, 0 to 4897\n",
      "Data columns (total 12 columns):\n",
      " #   Column                Non-Null Count  Dtype  \n",
      "---  ------                --------------  -----  \n",
      " 0   fixed acidity         4898 non-null   float64\n",
      " 1   volatile acidity      4898 non-null   float64\n",
      " 2   citric acid           4898 non-null   float64\n",
      " 3   residual sugar        4898 non-null   float64\n",
      " 4   chlorides             4898 non-null   float64\n",
      " 5   free sulfur dioxide   4898 non-null   float64\n",
      " 6   total sulfur dioxide  4898 non-null   float64\n",
      " 7   density               4898 non-null   float64\n",
      " 8   pH                    4898 non-null   float64\n",
      " 9   sulphates             4898 non-null   float64\n",
      " 10  alcohol               4898 non-null   float64\n",
      " 11  quality               4898 non-null   int64  \n",
      "dtypes: float64(11), int64(1)\n",
      "memory usage: 459.3 KB\n"
     ]
    }
   ],
   "source": [
    "df.info()"
   ]
  },
  {
   "cell_type": "code",
   "execution_count": 6,
   "id": "5b019153",
   "metadata": {
    "execution": {
     "iopub.execute_input": "2023-06-14T03:08:40.277705Z",
     "iopub.status.busy": "2023-06-14T03:08:40.277332Z",
     "iopub.status.idle": "2023-06-14T03:08:40.332377Z",
     "shell.execute_reply": "2023-06-14T03:08:40.331027Z"
    },
    "executionInfo": {
     "elapsed": 747,
     "status": "ok",
     "timestamp": 1686710688915,
     "user": {
      "displayName": "Venu V",
      "userId": "08098080155789612531"
     },
     "user_tz": -330
    },
    "id": "FBReF2p0xIWQ",
    "outputId": "bcb73979-850f-4c2a-9695-a2b2ed4010d9",
    "papermill": {
     "duration": 0.077494,
     "end_time": "2023-06-14T03:08:40.335103",
     "exception": false,
     "start_time": "2023-06-14T03:08:40.257609",
     "status": "completed"
    },
    "tags": []
   },
   "outputs": [
    {
     "data": {
      "text/html": [
       "<div>\n",
       "<style scoped>\n",
       "    .dataframe tbody tr th:only-of-type {\n",
       "        vertical-align: middle;\n",
       "    }\n",
       "\n",
       "    .dataframe tbody tr th {\n",
       "        vertical-align: top;\n",
       "    }\n",
       "\n",
       "    .dataframe thead th {\n",
       "        text-align: right;\n",
       "    }\n",
       "</style>\n",
       "<table border=\"1\" class=\"dataframe\">\n",
       "  <thead>\n",
       "    <tr style=\"text-align: right;\">\n",
       "      <th></th>\n",
       "      <th>fixed acidity</th>\n",
       "      <th>volatile acidity</th>\n",
       "      <th>citric acid</th>\n",
       "      <th>residual sugar</th>\n",
       "      <th>chlorides</th>\n",
       "      <th>free sulfur dioxide</th>\n",
       "      <th>total sulfur dioxide</th>\n",
       "      <th>density</th>\n",
       "      <th>pH</th>\n",
       "      <th>sulphates</th>\n",
       "      <th>alcohol</th>\n",
       "      <th>quality</th>\n",
       "    </tr>\n",
       "  </thead>\n",
       "  <tbody>\n",
       "    <tr>\n",
       "      <th>count</th>\n",
       "      <td>4898.000000</td>\n",
       "      <td>4898.000000</td>\n",
       "      <td>4898.000000</td>\n",
       "      <td>4898.000000</td>\n",
       "      <td>4898.000000</td>\n",
       "      <td>4898.000000</td>\n",
       "      <td>4898.000000</td>\n",
       "      <td>4898.000000</td>\n",
       "      <td>4898.000000</td>\n",
       "      <td>4898.000000</td>\n",
       "      <td>4898.000000</td>\n",
       "      <td>4898.000000</td>\n",
       "    </tr>\n",
       "    <tr>\n",
       "      <th>mean</th>\n",
       "      <td>6.854788</td>\n",
       "      <td>0.278241</td>\n",
       "      <td>0.334192</td>\n",
       "      <td>6.391415</td>\n",
       "      <td>0.045772</td>\n",
       "      <td>35.308085</td>\n",
       "      <td>138.360657</td>\n",
       "      <td>0.994027</td>\n",
       "      <td>3.188267</td>\n",
       "      <td>0.489847</td>\n",
       "      <td>10.514267</td>\n",
       "      <td>5.877909</td>\n",
       "    </tr>\n",
       "    <tr>\n",
       "      <th>std</th>\n",
       "      <td>0.843868</td>\n",
       "      <td>0.100795</td>\n",
       "      <td>0.121020</td>\n",
       "      <td>5.072058</td>\n",
       "      <td>0.021848</td>\n",
       "      <td>17.007137</td>\n",
       "      <td>42.498065</td>\n",
       "      <td>0.002991</td>\n",
       "      <td>0.151001</td>\n",
       "      <td>0.114126</td>\n",
       "      <td>1.230621</td>\n",
       "      <td>0.885639</td>\n",
       "    </tr>\n",
       "    <tr>\n",
       "      <th>min</th>\n",
       "      <td>3.800000</td>\n",
       "      <td>0.080000</td>\n",
       "      <td>0.000000</td>\n",
       "      <td>0.600000</td>\n",
       "      <td>0.009000</td>\n",
       "      <td>2.000000</td>\n",
       "      <td>9.000000</td>\n",
       "      <td>0.987110</td>\n",
       "      <td>2.720000</td>\n",
       "      <td>0.220000</td>\n",
       "      <td>8.000000</td>\n",
       "      <td>3.000000</td>\n",
       "    </tr>\n",
       "    <tr>\n",
       "      <th>25%</th>\n",
       "      <td>6.300000</td>\n",
       "      <td>0.210000</td>\n",
       "      <td>0.270000</td>\n",
       "      <td>1.700000</td>\n",
       "      <td>0.036000</td>\n",
       "      <td>23.000000</td>\n",
       "      <td>108.000000</td>\n",
       "      <td>0.991723</td>\n",
       "      <td>3.090000</td>\n",
       "      <td>0.410000</td>\n",
       "      <td>9.500000</td>\n",
       "      <td>5.000000</td>\n",
       "    </tr>\n",
       "    <tr>\n",
       "      <th>50%</th>\n",
       "      <td>6.800000</td>\n",
       "      <td>0.260000</td>\n",
       "      <td>0.320000</td>\n",
       "      <td>5.200000</td>\n",
       "      <td>0.043000</td>\n",
       "      <td>34.000000</td>\n",
       "      <td>134.000000</td>\n",
       "      <td>0.993740</td>\n",
       "      <td>3.180000</td>\n",
       "      <td>0.470000</td>\n",
       "      <td>10.400000</td>\n",
       "      <td>6.000000</td>\n",
       "    </tr>\n",
       "    <tr>\n",
       "      <th>75%</th>\n",
       "      <td>7.300000</td>\n",
       "      <td>0.320000</td>\n",
       "      <td>0.390000</td>\n",
       "      <td>9.900000</td>\n",
       "      <td>0.050000</td>\n",
       "      <td>46.000000</td>\n",
       "      <td>167.000000</td>\n",
       "      <td>0.996100</td>\n",
       "      <td>3.280000</td>\n",
       "      <td>0.550000</td>\n",
       "      <td>11.400000</td>\n",
       "      <td>6.000000</td>\n",
       "    </tr>\n",
       "    <tr>\n",
       "      <th>max</th>\n",
       "      <td>14.200000</td>\n",
       "      <td>1.100000</td>\n",
       "      <td>1.660000</td>\n",
       "      <td>65.800000</td>\n",
       "      <td>0.346000</td>\n",
       "      <td>289.000000</td>\n",
       "      <td>440.000000</td>\n",
       "      <td>1.038980</td>\n",
       "      <td>3.820000</td>\n",
       "      <td>1.080000</td>\n",
       "      <td>14.200000</td>\n",
       "      <td>9.000000</td>\n",
       "    </tr>\n",
       "  </tbody>\n",
       "</table>\n",
       "</div>"
      ],
      "text/plain": [
       "       fixed acidity  volatile acidity  citric acid  residual sugar  \\\n",
       "count    4898.000000       4898.000000  4898.000000     4898.000000   \n",
       "mean        6.854788          0.278241     0.334192        6.391415   \n",
       "std         0.843868          0.100795     0.121020        5.072058   \n",
       "min         3.800000          0.080000     0.000000        0.600000   \n",
       "25%         6.300000          0.210000     0.270000        1.700000   \n",
       "50%         6.800000          0.260000     0.320000        5.200000   \n",
       "75%         7.300000          0.320000     0.390000        9.900000   \n",
       "max        14.200000          1.100000     1.660000       65.800000   \n",
       "\n",
       "         chlorides  free sulfur dioxide  total sulfur dioxide      density  \\\n",
       "count  4898.000000          4898.000000           4898.000000  4898.000000   \n",
       "mean      0.045772            35.308085            138.360657     0.994027   \n",
       "std       0.021848            17.007137             42.498065     0.002991   \n",
       "min       0.009000             2.000000              9.000000     0.987110   \n",
       "25%       0.036000            23.000000            108.000000     0.991723   \n",
       "50%       0.043000            34.000000            134.000000     0.993740   \n",
       "75%       0.050000            46.000000            167.000000     0.996100   \n",
       "max       0.346000           289.000000            440.000000     1.038980   \n",
       "\n",
       "                pH    sulphates      alcohol      quality  \n",
       "count  4898.000000  4898.000000  4898.000000  4898.000000  \n",
       "mean      3.188267     0.489847    10.514267     5.877909  \n",
       "std       0.151001     0.114126     1.230621     0.885639  \n",
       "min       2.720000     0.220000     8.000000     3.000000  \n",
       "25%       3.090000     0.410000     9.500000     5.000000  \n",
       "50%       3.180000     0.470000    10.400000     6.000000  \n",
       "75%       3.280000     0.550000    11.400000     6.000000  \n",
       "max       3.820000     1.080000    14.200000     9.000000  "
      ]
     },
     "execution_count": 6,
     "metadata": {},
     "output_type": "execute_result"
    }
   ],
   "source": [
    "df.describe()"
   ]
  },
  {
   "cell_type": "code",
   "execution_count": 7,
   "id": "2185d5ca",
   "metadata": {
    "execution": {
     "iopub.execute_input": "2023-06-14T03:08:40.374752Z",
     "iopub.status.busy": "2023-06-14T03:08:40.374006Z",
     "iopub.status.idle": "2023-06-14T03:08:40.379929Z",
     "shell.execute_reply": "2023-06-14T03:08:40.379174Z"
    },
    "executionInfo": {
     "elapsed": 9,
     "status": "ok",
     "timestamp": 1686710710052,
     "user": {
      "displayName": "Venu V",
      "userId": "08098080155789612531"
     },
     "user_tz": -330
    },
    "id": "xDiZzC02xIZC",
    "outputId": "29dd4c76-b51f-4af6-e554-722427152260",
    "papermill": {
     "duration": 0.028053,
     "end_time": "2023-06-14T03:08:40.381899",
     "exception": false,
     "start_time": "2023-06-14T03:08:40.353846",
     "status": "completed"
    },
    "tags": []
   },
   "outputs": [
    {
     "data": {
      "text/plain": [
       "Index(['fixed acidity', 'volatile acidity', 'citric acid', 'residual sugar',\n",
       "       'chlorides', 'free sulfur dioxide', 'total sulfur dioxide', 'density',\n",
       "       'pH', 'sulphates', 'alcohol', 'quality'],\n",
       "      dtype='object')"
      ]
     },
     "execution_count": 7,
     "metadata": {},
     "output_type": "execute_result"
    }
   ],
   "source": [
    "df.columns"
   ]
  },
  {
   "cell_type": "code",
   "execution_count": 8,
   "id": "09d5da85",
   "metadata": {
    "execution": {
     "iopub.execute_input": "2023-06-14T03:08:40.421954Z",
     "iopub.status.busy": "2023-06-14T03:08:40.421349Z",
     "iopub.status.idle": "2023-06-14T03:08:40.429117Z",
     "shell.execute_reply": "2023-06-14T03:08:40.428064Z"
    },
    "executionInfo": {
     "elapsed": 421,
     "status": "ok",
     "timestamp": 1686710722998,
     "user": {
      "displayName": "Venu V",
      "userId": "08098080155789612531"
     },
     "user_tz": -330
    },
    "id": "WpXRbW9LxIbn",
    "outputId": "8a600044-5c17-41c6-9427-7fa52f9ca648",
    "papermill": {
     "duration": 0.030221,
     "end_time": "2023-06-14T03:08:40.431170",
     "exception": false,
     "start_time": "2023-06-14T03:08:40.400949",
     "status": "completed"
    },
    "tags": []
   },
   "outputs": [
    {
     "data": {
      "text/plain": [
       "6    2198\n",
       "5    1457\n",
       "7     880\n",
       "8     175\n",
       "4     163\n",
       "3      20\n",
       "9       5\n",
       "Name: quality, dtype: int64"
      ]
     },
     "execution_count": 8,
     "metadata": {},
     "output_type": "execute_result"
    }
   ],
   "source": [
    "df['quality'].value_counts()"
   ]
  },
  {
   "cell_type": "code",
   "execution_count": 9,
   "id": "c15826ff",
   "metadata": {
    "execution": {
     "iopub.execute_input": "2023-06-14T03:08:40.472013Z",
     "iopub.status.busy": "2023-06-14T03:08:40.471354Z",
     "iopub.status.idle": "2023-06-14T03:08:40.494182Z",
     "shell.execute_reply": "2023-06-14T03:08:40.493350Z"
    },
    "executionInfo": {
     "elapsed": 512,
     "status": "ok",
     "timestamp": 1686710736482,
     "user": {
      "displayName": "Venu V",
      "userId": "08098080155789612531"
     },
     "user_tz": -330
    },
    "id": "O3ExWcWcxIed",
    "outputId": "c277bdee-07ca-4e41-de96-95e6799b353e",
    "papermill": {
     "duration": 0.045767,
     "end_time": "2023-06-14T03:08:40.496372",
     "exception": false,
     "start_time": "2023-06-14T03:08:40.450605",
     "status": "completed"
    },
    "tags": []
   },
   "outputs": [
    {
     "data": {
      "text/html": [
       "<div>\n",
       "<style scoped>\n",
       "    .dataframe tbody tr th:only-of-type {\n",
       "        vertical-align: middle;\n",
       "    }\n",
       "\n",
       "    .dataframe tbody tr th {\n",
       "        vertical-align: top;\n",
       "    }\n",
       "\n",
       "    .dataframe thead th {\n",
       "        text-align: right;\n",
       "    }\n",
       "</style>\n",
       "<table border=\"1\" class=\"dataframe\">\n",
       "  <thead>\n",
       "    <tr style=\"text-align: right;\">\n",
       "      <th></th>\n",
       "      <th>fixed acidity</th>\n",
       "      <th>volatile acidity</th>\n",
       "      <th>citric acid</th>\n",
       "      <th>residual sugar</th>\n",
       "      <th>chlorides</th>\n",
       "      <th>free sulfur dioxide</th>\n",
       "      <th>total sulfur dioxide</th>\n",
       "      <th>density</th>\n",
       "      <th>pH</th>\n",
       "      <th>sulphates</th>\n",
       "      <th>alcohol</th>\n",
       "    </tr>\n",
       "    <tr>\n",
       "      <th>quality</th>\n",
       "      <th></th>\n",
       "      <th></th>\n",
       "      <th></th>\n",
       "      <th></th>\n",
       "      <th></th>\n",
       "      <th></th>\n",
       "      <th></th>\n",
       "      <th></th>\n",
       "      <th></th>\n",
       "      <th></th>\n",
       "      <th></th>\n",
       "    </tr>\n",
       "  </thead>\n",
       "  <tbody>\n",
       "    <tr>\n",
       "      <th>3</th>\n",
       "      <td>7.600000</td>\n",
       "      <td>0.333250</td>\n",
       "      <td>0.336000</td>\n",
       "      <td>6.392500</td>\n",
       "      <td>0.054300</td>\n",
       "      <td>53.325000</td>\n",
       "      <td>170.600000</td>\n",
       "      <td>0.994884</td>\n",
       "      <td>3.187500</td>\n",
       "      <td>0.474500</td>\n",
       "      <td>10.345000</td>\n",
       "    </tr>\n",
       "    <tr>\n",
       "      <th>4</th>\n",
       "      <td>7.129448</td>\n",
       "      <td>0.381227</td>\n",
       "      <td>0.304233</td>\n",
       "      <td>4.628221</td>\n",
       "      <td>0.050098</td>\n",
       "      <td>23.358896</td>\n",
       "      <td>125.279141</td>\n",
       "      <td>0.994277</td>\n",
       "      <td>3.182883</td>\n",
       "      <td>0.476135</td>\n",
       "      <td>10.152454</td>\n",
       "    </tr>\n",
       "    <tr>\n",
       "      <th>5</th>\n",
       "      <td>6.933974</td>\n",
       "      <td>0.302011</td>\n",
       "      <td>0.337653</td>\n",
       "      <td>7.334969</td>\n",
       "      <td>0.051546</td>\n",
       "      <td>36.432052</td>\n",
       "      <td>150.904598</td>\n",
       "      <td>0.995263</td>\n",
       "      <td>3.168833</td>\n",
       "      <td>0.482203</td>\n",
       "      <td>9.808840</td>\n",
       "    </tr>\n",
       "    <tr>\n",
       "      <th>6</th>\n",
       "      <td>6.837671</td>\n",
       "      <td>0.260564</td>\n",
       "      <td>0.338025</td>\n",
       "      <td>6.441606</td>\n",
       "      <td>0.045217</td>\n",
       "      <td>35.650591</td>\n",
       "      <td>137.047316</td>\n",
       "      <td>0.993961</td>\n",
       "      <td>3.188599</td>\n",
       "      <td>0.491106</td>\n",
       "      <td>10.575372</td>\n",
       "    </tr>\n",
       "    <tr>\n",
       "      <th>7</th>\n",
       "      <td>6.734716</td>\n",
       "      <td>0.262767</td>\n",
       "      <td>0.325625</td>\n",
       "      <td>5.186477</td>\n",
       "      <td>0.038191</td>\n",
       "      <td>34.125568</td>\n",
       "      <td>125.114773</td>\n",
       "      <td>0.992452</td>\n",
       "      <td>3.213898</td>\n",
       "      <td>0.503102</td>\n",
       "      <td>11.367936</td>\n",
       "    </tr>\n",
       "    <tr>\n",
       "      <th>8</th>\n",
       "      <td>6.657143</td>\n",
       "      <td>0.277400</td>\n",
       "      <td>0.326514</td>\n",
       "      <td>5.671429</td>\n",
       "      <td>0.038314</td>\n",
       "      <td>36.720000</td>\n",
       "      <td>126.165714</td>\n",
       "      <td>0.992236</td>\n",
       "      <td>3.218686</td>\n",
       "      <td>0.486229</td>\n",
       "      <td>11.636000</td>\n",
       "    </tr>\n",
       "    <tr>\n",
       "      <th>9</th>\n",
       "      <td>7.420000</td>\n",
       "      <td>0.298000</td>\n",
       "      <td>0.386000</td>\n",
       "      <td>4.120000</td>\n",
       "      <td>0.027400</td>\n",
       "      <td>33.400000</td>\n",
       "      <td>116.000000</td>\n",
       "      <td>0.991460</td>\n",
       "      <td>3.308000</td>\n",
       "      <td>0.466000</td>\n",
       "      <td>12.180000</td>\n",
       "    </tr>\n",
       "  </tbody>\n",
       "</table>\n",
       "</div>"
      ],
      "text/plain": [
       "         fixed acidity  volatile acidity  citric acid  residual sugar  \\\n",
       "quality                                                                 \n",
       "3             7.600000          0.333250     0.336000        6.392500   \n",
       "4             7.129448          0.381227     0.304233        4.628221   \n",
       "5             6.933974          0.302011     0.337653        7.334969   \n",
       "6             6.837671          0.260564     0.338025        6.441606   \n",
       "7             6.734716          0.262767     0.325625        5.186477   \n",
       "8             6.657143          0.277400     0.326514        5.671429   \n",
       "9             7.420000          0.298000     0.386000        4.120000   \n",
       "\n",
       "         chlorides  free sulfur dioxide  total sulfur dioxide   density  \\\n",
       "quality                                                                   \n",
       "3         0.054300            53.325000            170.600000  0.994884   \n",
       "4         0.050098            23.358896            125.279141  0.994277   \n",
       "5         0.051546            36.432052            150.904598  0.995263   \n",
       "6         0.045217            35.650591            137.047316  0.993961   \n",
       "7         0.038191            34.125568            125.114773  0.992452   \n",
       "8         0.038314            36.720000            126.165714  0.992236   \n",
       "9         0.027400            33.400000            116.000000  0.991460   \n",
       "\n",
       "               pH  sulphates    alcohol  \n",
       "quality                                  \n",
       "3        3.187500   0.474500  10.345000  \n",
       "4        3.182883   0.476135  10.152454  \n",
       "5        3.168833   0.482203   9.808840  \n",
       "6        3.188599   0.491106  10.575372  \n",
       "7        3.213898   0.503102  11.367936  \n",
       "8        3.218686   0.486229  11.636000  \n",
       "9        3.308000   0.466000  12.180000  "
      ]
     },
     "execution_count": 9,
     "metadata": {},
     "output_type": "execute_result"
    }
   ],
   "source": [
    "df.groupby('quality').mean()"
   ]
  },
  {
   "cell_type": "code",
   "execution_count": 10,
   "id": "b5b6e459",
   "metadata": {
    "execution": {
     "iopub.execute_input": "2023-06-14T03:08:40.537855Z",
     "iopub.status.busy": "2023-06-14T03:08:40.537172Z",
     "iopub.status.idle": "2023-06-14T03:08:40.541643Z",
     "shell.execute_reply": "2023-06-14T03:08:40.540480Z"
    },
    "executionInfo": {
     "elapsed": 10,
     "status": "ok",
     "timestamp": 1686710751674,
     "user": {
      "displayName": "Venu V",
      "userId": "08098080155789612531"
     },
     "user_tz": -330
    },
    "id": "38Dt6t73xInx",
    "papermill": {
     "duration": 0.027747,
     "end_time": "2023-06-14T03:08:40.543875",
     "exception": false,
     "start_time": "2023-06-14T03:08:40.516128",
     "status": "completed"
    },
    "tags": []
   },
   "outputs": [],
   "source": [
    "y = df['quality']"
   ]
  },
  {
   "cell_type": "code",
   "execution_count": 11,
   "id": "57ba4329",
   "metadata": {
    "execution": {
     "iopub.execute_input": "2023-06-14T03:08:40.585260Z",
     "iopub.status.busy": "2023-06-14T03:08:40.584617Z",
     "iopub.status.idle": "2023-06-14T03:08:40.590044Z",
     "shell.execute_reply": "2023-06-14T03:08:40.589187Z"
    },
    "executionInfo": {
     "elapsed": 11,
     "status": "ok",
     "timestamp": 1686710761432,
     "user": {
      "displayName": "Venu V",
      "userId": "08098080155789612531"
     },
     "user_tz": -330
    },
    "id": "f-LOsrjixIxp",
    "outputId": "4d0d6f6a-a25a-4d19-9af0-e45b3be1c48d",
    "papermill": {
     "duration": 0.028444,
     "end_time": "2023-06-14T03:08:40.592107",
     "exception": false,
     "start_time": "2023-06-14T03:08:40.563663",
     "status": "completed"
    },
    "tags": []
   },
   "outputs": [
    {
     "data": {
      "text/plain": [
       "(4898,)"
      ]
     },
     "execution_count": 11,
     "metadata": {},
     "output_type": "execute_result"
    }
   ],
   "source": [
    "y.shape"
   ]
  },
  {
   "cell_type": "code",
   "execution_count": 12,
   "id": "d893dd18",
   "metadata": {
    "execution": {
     "iopub.execute_input": "2023-06-14T03:08:40.634457Z",
     "iopub.status.busy": "2023-06-14T03:08:40.633814Z",
     "iopub.status.idle": "2023-06-14T03:08:40.641099Z",
     "shell.execute_reply": "2023-06-14T03:08:40.640052Z"
    },
    "executionInfo": {
     "elapsed": 614,
     "status": "ok",
     "timestamp": 1686710776725,
     "user": {
      "displayName": "Venu V",
      "userId": "08098080155789612531"
     },
     "user_tz": -330
    },
    "id": "OmrIwmiqy76q",
    "outputId": "e30a202f-220a-4b3f-f2f7-21f56c85a638",
    "papermill": {
     "duration": 0.031347,
     "end_time": "2023-06-14T03:08:40.643450",
     "exception": false,
     "start_time": "2023-06-14T03:08:40.612103",
     "status": "completed"
    },
    "tags": []
   },
   "outputs": [
    {
     "data": {
      "text/plain": [
       "0       6\n",
       "1       6\n",
       "2       6\n",
       "3       6\n",
       "4       6\n",
       "       ..\n",
       "4893    6\n",
       "4894    5\n",
       "4895    6\n",
       "4896    7\n",
       "4897    6\n",
       "Name: quality, Length: 4898, dtype: int64"
      ]
     },
     "execution_count": 12,
     "metadata": {},
     "output_type": "execute_result"
    }
   ],
   "source": [
    "y"
   ]
  },
  {
   "cell_type": "code",
   "execution_count": 13,
   "id": "c00aaf09",
   "metadata": {
    "execution": {
     "iopub.execute_input": "2023-06-14T03:08:40.685303Z",
     "iopub.status.busy": "2023-06-14T03:08:40.684870Z",
     "iopub.status.idle": "2023-06-14T03:08:40.691044Z",
     "shell.execute_reply": "2023-06-14T03:08:40.690021Z"
    },
    "executionInfo": {
     "elapsed": 407,
     "status": "ok",
     "timestamp": 1686710792004,
     "user": {
      "displayName": "Venu V",
      "userId": "08098080155789612531"
     },
     "user_tz": -330
    },
    "id": "Z2UtupmPy_1z",
    "papermill": {
     "duration": 0.030082,
     "end_time": "2023-06-14T03:08:40.693512",
     "exception": false,
     "start_time": "2023-06-14T03:08:40.663430",
     "status": "completed"
    },
    "tags": []
   },
   "outputs": [],
   "source": [
    "x = df[['fixed acidity', 'volatile acidity', 'citric acid', 'residual sugar',\n",
    "        'chlorides', 'free sulfur dioxide', 'total sulfur dioxide', 'density',\n",
    "        'pH', 'sulphates', 'alcohol']]\n"
   ]
  },
  {
   "cell_type": "code",
   "execution_count": 14,
   "id": "586c3185",
   "metadata": {
    "execution": {
     "iopub.execute_input": "2023-06-14T03:08:40.736313Z",
     "iopub.status.busy": "2023-06-14T03:08:40.735900Z",
     "iopub.status.idle": "2023-06-14T03:08:40.741506Z",
     "shell.execute_reply": "2023-06-14T03:08:40.740405Z"
    },
    "executionInfo": {
     "elapsed": 5,
     "status": "ok",
     "timestamp": 1686710817014,
     "user": {
      "displayName": "Venu V",
      "userId": "08098080155789612531"
     },
     "user_tz": -330
    },
    "id": "cm0uAowPzDMa",
    "papermill": {
     "duration": 0.029454,
     "end_time": "2023-06-14T03:08:40.743793",
     "exception": false,
     "start_time": "2023-06-14T03:08:40.714339",
     "status": "completed"
    },
    "tags": []
   },
   "outputs": [],
   "source": [
    "x = df.drop(['quality'], axis=1)\n"
   ]
  },
  {
   "cell_type": "code",
   "execution_count": 15,
   "id": "2b4b4032",
   "metadata": {
    "execution": {
     "iopub.execute_input": "2023-06-14T03:08:40.785771Z",
     "iopub.status.busy": "2023-06-14T03:08:40.785388Z",
     "iopub.status.idle": "2023-06-14T03:08:40.792493Z",
     "shell.execute_reply": "2023-06-14T03:08:40.791392Z"
    },
    "executionInfo": {
     "elapsed": 441,
     "status": "ok",
     "timestamp": 1686710833716,
     "user": {
      "displayName": "Venu V",
      "userId": "08098080155789612531"
     },
     "user_tz": -330
    },
    "id": "Di56A3UrzJbX",
    "outputId": "ef8d250f-3a20-4e97-c948-10d5c76b862b",
    "papermill": {
     "duration": 0.030744,
     "end_time": "2023-06-14T03:08:40.794807",
     "exception": false,
     "start_time": "2023-06-14T03:08:40.764063",
     "status": "completed"
    },
    "tags": []
   },
   "outputs": [
    {
     "data": {
      "text/plain": [
       "(4898, 11)"
      ]
     },
     "execution_count": 15,
     "metadata": {},
     "output_type": "execute_result"
    }
   ],
   "source": [
    "x.shape"
   ]
  },
  {
   "cell_type": "code",
   "execution_count": 16,
   "id": "8b21075a",
   "metadata": {
    "execution": {
     "iopub.execute_input": "2023-06-14T03:08:40.838471Z",
     "iopub.status.busy": "2023-06-14T03:08:40.838081Z",
     "iopub.status.idle": "2023-06-14T03:08:40.867083Z",
     "shell.execute_reply": "2023-06-14T03:08:40.865992Z"
    },
    "executionInfo": {
     "elapsed": 476,
     "status": "ok",
     "timestamp": 1686710849941,
     "user": {
      "displayName": "Venu V",
      "userId": "08098080155789612531"
     },
     "user_tz": -330
    },
    "id": "AAyCisH2zOqZ",
    "outputId": "5a5d7cd5-e058-49fc-a3b7-f7631b9cfad1",
    "papermill": {
     "duration": 0.05303,
     "end_time": "2023-06-14T03:08:40.869374",
     "exception": false,
     "start_time": "2023-06-14T03:08:40.816344",
     "status": "completed"
    },
    "tags": []
   },
   "outputs": [
    {
     "data": {
      "text/html": [
       "<div>\n",
       "<style scoped>\n",
       "    .dataframe tbody tr th:only-of-type {\n",
       "        vertical-align: middle;\n",
       "    }\n",
       "\n",
       "    .dataframe tbody tr th {\n",
       "        vertical-align: top;\n",
       "    }\n",
       "\n",
       "    .dataframe thead th {\n",
       "        text-align: right;\n",
       "    }\n",
       "</style>\n",
       "<table border=\"1\" class=\"dataframe\">\n",
       "  <thead>\n",
       "    <tr style=\"text-align: right;\">\n",
       "      <th></th>\n",
       "      <th>fixed acidity</th>\n",
       "      <th>volatile acidity</th>\n",
       "      <th>citric acid</th>\n",
       "      <th>residual sugar</th>\n",
       "      <th>chlorides</th>\n",
       "      <th>free sulfur dioxide</th>\n",
       "      <th>total sulfur dioxide</th>\n",
       "      <th>density</th>\n",
       "      <th>pH</th>\n",
       "      <th>sulphates</th>\n",
       "      <th>alcohol</th>\n",
       "    </tr>\n",
       "  </thead>\n",
       "  <tbody>\n",
       "    <tr>\n",
       "      <th>0</th>\n",
       "      <td>7.0</td>\n",
       "      <td>0.27</td>\n",
       "      <td>0.36</td>\n",
       "      <td>20.7</td>\n",
       "      <td>0.045</td>\n",
       "      <td>45.0</td>\n",
       "      <td>170.0</td>\n",
       "      <td>1.00100</td>\n",
       "      <td>3.00</td>\n",
       "      <td>0.45</td>\n",
       "      <td>8.8</td>\n",
       "    </tr>\n",
       "    <tr>\n",
       "      <th>1</th>\n",
       "      <td>6.3</td>\n",
       "      <td>0.30</td>\n",
       "      <td>0.34</td>\n",
       "      <td>1.6</td>\n",
       "      <td>0.049</td>\n",
       "      <td>14.0</td>\n",
       "      <td>132.0</td>\n",
       "      <td>0.99400</td>\n",
       "      <td>3.30</td>\n",
       "      <td>0.49</td>\n",
       "      <td>9.5</td>\n",
       "    </tr>\n",
       "    <tr>\n",
       "      <th>2</th>\n",
       "      <td>8.1</td>\n",
       "      <td>0.28</td>\n",
       "      <td>0.40</td>\n",
       "      <td>6.9</td>\n",
       "      <td>0.050</td>\n",
       "      <td>30.0</td>\n",
       "      <td>97.0</td>\n",
       "      <td>0.99510</td>\n",
       "      <td>3.26</td>\n",
       "      <td>0.44</td>\n",
       "      <td>10.1</td>\n",
       "    </tr>\n",
       "    <tr>\n",
       "      <th>3</th>\n",
       "      <td>7.2</td>\n",
       "      <td>0.23</td>\n",
       "      <td>0.32</td>\n",
       "      <td>8.5</td>\n",
       "      <td>0.058</td>\n",
       "      <td>47.0</td>\n",
       "      <td>186.0</td>\n",
       "      <td>0.99560</td>\n",
       "      <td>3.19</td>\n",
       "      <td>0.40</td>\n",
       "      <td>9.9</td>\n",
       "    </tr>\n",
       "    <tr>\n",
       "      <th>4</th>\n",
       "      <td>7.2</td>\n",
       "      <td>0.23</td>\n",
       "      <td>0.32</td>\n",
       "      <td>8.5</td>\n",
       "      <td>0.058</td>\n",
       "      <td>47.0</td>\n",
       "      <td>186.0</td>\n",
       "      <td>0.99560</td>\n",
       "      <td>3.19</td>\n",
       "      <td>0.40</td>\n",
       "      <td>9.9</td>\n",
       "    </tr>\n",
       "    <tr>\n",
       "      <th>...</th>\n",
       "      <td>...</td>\n",
       "      <td>...</td>\n",
       "      <td>...</td>\n",
       "      <td>...</td>\n",
       "      <td>...</td>\n",
       "      <td>...</td>\n",
       "      <td>...</td>\n",
       "      <td>...</td>\n",
       "      <td>...</td>\n",
       "      <td>...</td>\n",
       "      <td>...</td>\n",
       "    </tr>\n",
       "    <tr>\n",
       "      <th>4893</th>\n",
       "      <td>6.2</td>\n",
       "      <td>0.21</td>\n",
       "      <td>0.29</td>\n",
       "      <td>1.6</td>\n",
       "      <td>0.039</td>\n",
       "      <td>24.0</td>\n",
       "      <td>92.0</td>\n",
       "      <td>0.99114</td>\n",
       "      <td>3.27</td>\n",
       "      <td>0.50</td>\n",
       "      <td>11.2</td>\n",
       "    </tr>\n",
       "    <tr>\n",
       "      <th>4894</th>\n",
       "      <td>6.6</td>\n",
       "      <td>0.32</td>\n",
       "      <td>0.36</td>\n",
       "      <td>8.0</td>\n",
       "      <td>0.047</td>\n",
       "      <td>57.0</td>\n",
       "      <td>168.0</td>\n",
       "      <td>0.99490</td>\n",
       "      <td>3.15</td>\n",
       "      <td>0.46</td>\n",
       "      <td>9.6</td>\n",
       "    </tr>\n",
       "    <tr>\n",
       "      <th>4895</th>\n",
       "      <td>6.5</td>\n",
       "      <td>0.24</td>\n",
       "      <td>0.19</td>\n",
       "      <td>1.2</td>\n",
       "      <td>0.041</td>\n",
       "      <td>30.0</td>\n",
       "      <td>111.0</td>\n",
       "      <td>0.99254</td>\n",
       "      <td>2.99</td>\n",
       "      <td>0.46</td>\n",
       "      <td>9.4</td>\n",
       "    </tr>\n",
       "    <tr>\n",
       "      <th>4896</th>\n",
       "      <td>5.5</td>\n",
       "      <td>0.29</td>\n",
       "      <td>0.30</td>\n",
       "      <td>1.1</td>\n",
       "      <td>0.022</td>\n",
       "      <td>20.0</td>\n",
       "      <td>110.0</td>\n",
       "      <td>0.98869</td>\n",
       "      <td>3.34</td>\n",
       "      <td>0.38</td>\n",
       "      <td>12.8</td>\n",
       "    </tr>\n",
       "    <tr>\n",
       "      <th>4897</th>\n",
       "      <td>6.0</td>\n",
       "      <td>0.21</td>\n",
       "      <td>0.38</td>\n",
       "      <td>0.8</td>\n",
       "      <td>0.020</td>\n",
       "      <td>22.0</td>\n",
       "      <td>98.0</td>\n",
       "      <td>0.98941</td>\n",
       "      <td>3.26</td>\n",
       "      <td>0.32</td>\n",
       "      <td>11.8</td>\n",
       "    </tr>\n",
       "  </tbody>\n",
       "</table>\n",
       "<p>4898 rows × 11 columns</p>\n",
       "</div>"
      ],
      "text/plain": [
       "      fixed acidity  volatile acidity  citric acid  residual sugar  chlorides  \\\n",
       "0               7.0              0.27         0.36            20.7      0.045   \n",
       "1               6.3              0.30         0.34             1.6      0.049   \n",
       "2               8.1              0.28         0.40             6.9      0.050   \n",
       "3               7.2              0.23         0.32             8.5      0.058   \n",
       "4               7.2              0.23         0.32             8.5      0.058   \n",
       "...             ...               ...          ...             ...        ...   \n",
       "4893            6.2              0.21         0.29             1.6      0.039   \n",
       "4894            6.6              0.32         0.36             8.0      0.047   \n",
       "4895            6.5              0.24         0.19             1.2      0.041   \n",
       "4896            5.5              0.29         0.30             1.1      0.022   \n",
       "4897            6.0              0.21         0.38             0.8      0.020   \n",
       "\n",
       "      free sulfur dioxide  total sulfur dioxide  density    pH  sulphates  \\\n",
       "0                    45.0                 170.0  1.00100  3.00       0.45   \n",
       "1                    14.0                 132.0  0.99400  3.30       0.49   \n",
       "2                    30.0                  97.0  0.99510  3.26       0.44   \n",
       "3                    47.0                 186.0  0.99560  3.19       0.40   \n",
       "4                    47.0                 186.0  0.99560  3.19       0.40   \n",
       "...                   ...                   ...      ...   ...        ...   \n",
       "4893                 24.0                  92.0  0.99114  3.27       0.50   \n",
       "4894                 57.0                 168.0  0.99490  3.15       0.46   \n",
       "4895                 30.0                 111.0  0.99254  2.99       0.46   \n",
       "4896                 20.0                 110.0  0.98869  3.34       0.38   \n",
       "4897                 22.0                  98.0  0.98941  3.26       0.32   \n",
       "\n",
       "      alcohol  \n",
       "0         8.8  \n",
       "1         9.5  \n",
       "2        10.1  \n",
       "3         9.9  \n",
       "4         9.9  \n",
       "...       ...  \n",
       "4893     11.2  \n",
       "4894      9.6  \n",
       "4895      9.4  \n",
       "4896     12.8  \n",
       "4897     11.8  \n",
       "\n",
       "[4898 rows x 11 columns]"
      ]
     },
     "execution_count": 16,
     "metadata": {},
     "output_type": "execute_result"
    }
   ],
   "source": [
    "x"
   ]
  },
  {
   "cell_type": "code",
   "execution_count": 17,
   "id": "3241a3bd",
   "metadata": {
    "execution": {
     "iopub.execute_input": "2023-06-14T03:08:40.912861Z",
     "iopub.status.busy": "2023-06-14T03:08:40.912497Z",
     "iopub.status.idle": "2023-06-14T03:08:42.248175Z",
     "shell.execute_reply": "2023-06-14T03:08:42.247036Z"
    },
    "executionInfo": {
     "elapsed": 459,
     "status": "ok",
     "timestamp": 1686710868768,
     "user": {
      "displayName": "Venu V",
      "userId": "08098080155789612531"
     },
     "user_tz": -330
    },
    "id": "LEPfSdPYzRgq",
    "papermill": {
     "duration": 1.360717,
     "end_time": "2023-06-14T03:08:42.251022",
     "exception": false,
     "start_time": "2023-06-14T03:08:40.890305",
     "status": "completed"
    },
    "tags": []
   },
   "outputs": [],
   "source": [
    "from sklearn.preprocessing import StandardScaler"
   ]
  },
  {
   "cell_type": "code",
   "execution_count": 18,
   "id": "bb6ea22e",
   "metadata": {
    "execution": {
     "iopub.execute_input": "2023-06-14T03:08:42.295163Z",
     "iopub.status.busy": "2023-06-14T03:08:42.294735Z",
     "iopub.status.idle": "2023-06-14T03:08:42.299697Z",
     "shell.execute_reply": "2023-06-14T03:08:42.298526Z"
    },
    "executionInfo": {
     "elapsed": 450,
     "status": "ok",
     "timestamp": 1686710880808,
     "user": {
      "displayName": "Venu V",
      "userId": "08098080155789612531"
     },
     "user_tz": -330
    },
    "id": "TUdBIBiWzV_x",
    "papermill": {
     "duration": 0.029927,
     "end_time": "2023-06-14T03:08:42.302276",
     "exception": false,
     "start_time": "2023-06-14T03:08:42.272349",
     "status": "completed"
    },
    "tags": []
   },
   "outputs": [],
   "source": [
    "ss = StandardScaler()"
   ]
  },
  {
   "cell_type": "code",
   "execution_count": 19,
   "id": "f1319b11",
   "metadata": {
    "execution": {
     "iopub.execute_input": "2023-06-14T03:08:42.347015Z",
     "iopub.status.busy": "2023-06-14T03:08:42.345782Z",
     "iopub.status.idle": "2023-06-14T03:08:42.356023Z",
     "shell.execute_reply": "2023-06-14T03:08:42.355206Z"
    },
    "executionInfo": {
     "elapsed": 553,
     "status": "ok",
     "timestamp": 1686710893086,
     "user": {
      "displayName": "Venu V",
      "userId": "08098080155789612531"
     },
     "user_tz": -330
    },
    "id": "YRZ67ssHzYyr",
    "papermill": {
     "duration": 0.034914,
     "end_time": "2023-06-14T03:08:42.358362",
     "exception": false,
     "start_time": "2023-06-14T03:08:42.323448",
     "status": "completed"
    },
    "tags": []
   },
   "outputs": [],
   "source": [
    "x = ss.fit_transform(x)"
   ]
  },
  {
   "cell_type": "code",
   "execution_count": 20,
   "id": "cde63681",
   "metadata": {
    "execution": {
     "iopub.execute_input": "2023-06-14T03:08:42.403241Z",
     "iopub.status.busy": "2023-06-14T03:08:42.402776Z",
     "iopub.status.idle": "2023-06-14T03:08:42.410373Z",
     "shell.execute_reply": "2023-06-14T03:08:42.409312Z"
    },
    "executionInfo": {
     "elapsed": 424,
     "status": "ok",
     "timestamp": 1686710906148,
     "user": {
      "displayName": "Venu V",
      "userId": "08098080155789612531"
     },
     "user_tz": -330
    },
    "id": "hSrAuXo_zcB-",
    "outputId": "b0901b3d-bbf5-4ee7-ee0e-f1505785ee8e",
    "papermill": {
     "duration": 0.033174,
     "end_time": "2023-06-14T03:08:42.412839",
     "exception": false,
     "start_time": "2023-06-14T03:08:42.379665",
     "status": "completed"
    },
    "tags": []
   },
   "outputs": [
    {
     "data": {
      "text/plain": [
       "array([[ 1.72096961e-01, -8.17699008e-02,  2.13280202e-01, ...,\n",
       "        -1.24692128e+00, -3.49184257e-01, -1.39315246e+00],\n",
       "       [-6.57501128e-01,  2.15895632e-01,  4.80011213e-02, ...,\n",
       "         7.40028640e-01,  1.34184656e-03, -8.24275678e-01],\n",
       "       [ 1.47575110e+00,  1.74519434e-02,  5.43838363e-01, ...,\n",
       "         4.75101984e-01, -4.36815783e-01, -3.36667007e-01],\n",
       "       ...,\n",
       "       [-4.20473102e-01, -3.79435433e-01, -1.19159198e+00, ...,\n",
       "        -1.31315295e+00, -2.61552731e-01, -9.05543789e-01],\n",
       "       [-1.60561323e+00,  1.16673788e-01, -2.82557040e-01, ...,\n",
       "         1.00495530e+00, -9.62604939e-01,  1.85757201e+00],\n",
       "       [-1.01304317e+00, -6.77100966e-01,  3.78559282e-01, ...,\n",
       "         4.75101984e-01, -1.48839409e+00,  1.04489089e+00]])"
      ]
     },
     "execution_count": 20,
     "metadata": {},
     "output_type": "execute_result"
    }
   ],
   "source": [
    "x"
   ]
  },
  {
   "cell_type": "code",
   "execution_count": 21,
   "id": "30f96ac2",
   "metadata": {
    "execution": {
     "iopub.execute_input": "2023-06-14T03:08:42.457971Z",
     "iopub.status.busy": "2023-06-14T03:08:42.457601Z",
     "iopub.status.idle": "2023-06-14T03:08:42.575267Z",
     "shell.execute_reply": "2023-06-14T03:08:42.574249Z"
    },
    "executionInfo": {
     "elapsed": 452,
     "status": "ok",
     "timestamp": 1686710922693,
     "user": {
      "displayName": "Venu V",
      "userId": "08098080155789612531"
     },
     "user_tz": -330
    },
    "id": "9Su5Tx0YzfAw",
    "papermill": {
     "duration": 0.14352,
     "end_time": "2023-06-14T03:08:42.577841",
     "exception": false,
     "start_time": "2023-06-14T03:08:42.434321",
     "status": "completed"
    },
    "tags": []
   },
   "outputs": [],
   "source": [
    "from sklearn.model_selection import train_test_split"
   ]
  },
  {
   "cell_type": "code",
   "execution_count": 22,
   "id": "6d589b5d",
   "metadata": {
    "execution": {
     "iopub.execute_input": "2023-06-14T03:08:42.622618Z",
     "iopub.status.busy": "2023-06-14T03:08:42.622203Z",
     "iopub.status.idle": "2023-06-14T03:08:42.634698Z",
     "shell.execute_reply": "2023-06-14T03:08:42.633566Z"
    },
    "executionInfo": {
     "elapsed": 438,
     "status": "ok",
     "timestamp": 1686710937341,
     "user": {
      "displayName": "Venu V",
      "userId": "08098080155789612531"
     },
     "user_tz": -330
    },
    "id": "1tkg5WmEzjBM",
    "papermill": {
     "duration": 0.037686,
     "end_time": "2023-06-14T03:08:42.637155",
     "exception": false,
     "start_time": "2023-06-14T03:08:42.599469",
     "status": "completed"
    },
    "tags": []
   },
   "outputs": [],
   "source": [
    "x_train, x_test, y_train, y_test, = train_test_split(x,y, test_size = 0.3, stratify = y, random_state=222529)"
   ]
  },
  {
   "cell_type": "code",
   "execution_count": 23,
   "id": "32233ea4",
   "metadata": {
    "execution": {
     "iopub.execute_input": "2023-06-14T03:08:42.682335Z",
     "iopub.status.busy": "2023-06-14T03:08:42.681213Z",
     "iopub.status.idle": "2023-06-14T03:08:42.688022Z",
     "shell.execute_reply": "2023-06-14T03:08:42.687053Z"
    },
    "executionInfo": {
     "elapsed": 443,
     "status": "ok",
     "timestamp": 1686710948650,
     "user": {
      "displayName": "Venu V",
      "userId": "08098080155789612531"
     },
     "user_tz": -330
    },
    "id": "6EhX3FARzmrL",
    "outputId": "31f529f5-bc31-49de-a911-5d1497919f9e",
    "papermill": {
     "duration": 0.031421,
     "end_time": "2023-06-14T03:08:42.690029",
     "exception": false,
     "start_time": "2023-06-14T03:08:42.658608",
     "status": "completed"
    },
    "tags": []
   },
   "outputs": [
    {
     "data": {
      "text/plain": [
       "((3428, 11), (1470, 11), (3428,), (1470,))"
      ]
     },
     "execution_count": 23,
     "metadata": {},
     "output_type": "execute_result"
    }
   ],
   "source": [
    "x_train.shape, x_test.shape, y_train.shape, y_test.shape\n"
   ]
  },
  {
   "cell_type": "code",
   "execution_count": 24,
   "id": "d0b85234",
   "metadata": {
    "execution": {
     "iopub.execute_input": "2023-06-14T03:08:42.735436Z",
     "iopub.status.busy": "2023-06-14T03:08:42.734779Z",
     "iopub.status.idle": "2023-06-14T03:08:42.845539Z",
     "shell.execute_reply": "2023-06-14T03:08:42.844330Z"
    },
    "executionInfo": {
     "elapsed": 502,
     "status": "ok",
     "timestamp": 1686710963227,
     "user": {
      "displayName": "Venu V",
      "userId": "08098080155789612531"
     },
     "user_tz": -330
    },
    "id": "46opUVXozpoA",
    "papermill": {
     "duration": 0.136388,
     "end_time": "2023-06-14T03:08:42.848402",
     "exception": false,
     "start_time": "2023-06-14T03:08:42.712014",
     "status": "completed"
    },
    "tags": []
   },
   "outputs": [],
   "source": [
    "from sklearn.svm import SVC"
   ]
  },
  {
   "cell_type": "code",
   "execution_count": 25,
   "id": "dfcf7242",
   "metadata": {
    "execution": {
     "iopub.execute_input": "2023-06-14T03:08:42.895673Z",
     "iopub.status.busy": "2023-06-14T03:08:42.894868Z",
     "iopub.status.idle": "2023-06-14T03:08:42.900134Z",
     "shell.execute_reply": "2023-06-14T03:08:42.899306Z"
    },
    "executionInfo": {
     "elapsed": 462,
     "status": "ok",
     "timestamp": 1686710974049,
     "user": {
      "displayName": "Venu V",
      "userId": "08098080155789612531"
     },
     "user_tz": -330
    },
    "id": "uPz0609Azs1I",
    "papermill": {
     "duration": 0.031568,
     "end_time": "2023-06-14T03:08:42.902412",
     "exception": false,
     "start_time": "2023-06-14T03:08:42.870844",
     "status": "completed"
    },
    "tags": []
   },
   "outputs": [],
   "source": [
    "svc = SVC()"
   ]
  },
  {
   "cell_type": "code",
   "execution_count": 26,
   "id": "43ddfea8",
   "metadata": {
    "execution": {
     "iopub.execute_input": "2023-06-14T03:08:42.948572Z",
     "iopub.status.busy": "2023-06-14T03:08:42.948161Z",
     "iopub.status.idle": "2023-06-14T03:08:43.614597Z",
     "shell.execute_reply": "2023-06-14T03:08:43.613358Z"
    },
    "executionInfo": {
     "elapsed": 1169,
     "status": "ok",
     "timestamp": 1686710988713,
     "user": {
      "displayName": "Venu V",
      "userId": "08098080155789612531"
     },
     "user_tz": -330
    },
    "id": "WNXaU_zWzv8w",
    "outputId": "2cde9419-a48c-41f7-ebc1-0bf9c002759f",
    "papermill": {
     "duration": 0.692747,
     "end_time": "2023-06-14T03:08:43.617169",
     "exception": false,
     "start_time": "2023-06-14T03:08:42.924422",
     "status": "completed"
    },
    "tags": []
   },
   "outputs": [
    {
     "data": {
      "text/html": [
       "<style>#sk-container-id-1 {color: black;background-color: white;}#sk-container-id-1 pre{padding: 0;}#sk-container-id-1 div.sk-toggleable {background-color: white;}#sk-container-id-1 label.sk-toggleable__label {cursor: pointer;display: block;width: 100%;margin-bottom: 0;padding: 0.3em;box-sizing: border-box;text-align: center;}#sk-container-id-1 label.sk-toggleable__label-arrow:before {content: \"▸\";float: left;margin-right: 0.25em;color: #696969;}#sk-container-id-1 label.sk-toggleable__label-arrow:hover:before {color: black;}#sk-container-id-1 div.sk-estimator:hover label.sk-toggleable__label-arrow:before {color: black;}#sk-container-id-1 div.sk-toggleable__content {max-height: 0;max-width: 0;overflow: hidden;text-align: left;background-color: #f0f8ff;}#sk-container-id-1 div.sk-toggleable__content pre {margin: 0.2em;color: black;border-radius: 0.25em;background-color: #f0f8ff;}#sk-container-id-1 input.sk-toggleable__control:checked~div.sk-toggleable__content {max-height: 200px;max-width: 100%;overflow: auto;}#sk-container-id-1 input.sk-toggleable__control:checked~label.sk-toggleable__label-arrow:before {content: \"▾\";}#sk-container-id-1 div.sk-estimator input.sk-toggleable__control:checked~label.sk-toggleable__label {background-color: #d4ebff;}#sk-container-id-1 div.sk-label input.sk-toggleable__control:checked~label.sk-toggleable__label {background-color: #d4ebff;}#sk-container-id-1 input.sk-hidden--visually {border: 0;clip: rect(1px 1px 1px 1px);clip: rect(1px, 1px, 1px, 1px);height: 1px;margin: -1px;overflow: hidden;padding: 0;position: absolute;width: 1px;}#sk-container-id-1 div.sk-estimator {font-family: monospace;background-color: #f0f8ff;border: 1px dotted black;border-radius: 0.25em;box-sizing: border-box;margin-bottom: 0.5em;}#sk-container-id-1 div.sk-estimator:hover {background-color: #d4ebff;}#sk-container-id-1 div.sk-parallel-item::after {content: \"\";width: 100%;border-bottom: 1px solid gray;flex-grow: 1;}#sk-container-id-1 div.sk-label:hover label.sk-toggleable__label {background-color: #d4ebff;}#sk-container-id-1 div.sk-serial::before {content: \"\";position: absolute;border-left: 1px solid gray;box-sizing: border-box;top: 0;bottom: 0;left: 50%;z-index: 0;}#sk-container-id-1 div.sk-serial {display: flex;flex-direction: column;align-items: center;background-color: white;padding-right: 0.2em;padding-left: 0.2em;position: relative;}#sk-container-id-1 div.sk-item {position: relative;z-index: 1;}#sk-container-id-1 div.sk-parallel {display: flex;align-items: stretch;justify-content: center;background-color: white;position: relative;}#sk-container-id-1 div.sk-item::before, #sk-container-id-1 div.sk-parallel-item::before {content: \"\";position: absolute;border-left: 1px solid gray;box-sizing: border-box;top: 0;bottom: 0;left: 50%;z-index: -1;}#sk-container-id-1 div.sk-parallel-item {display: flex;flex-direction: column;z-index: 1;position: relative;background-color: white;}#sk-container-id-1 div.sk-parallel-item:first-child::after {align-self: flex-end;width: 50%;}#sk-container-id-1 div.sk-parallel-item:last-child::after {align-self: flex-start;width: 50%;}#sk-container-id-1 div.sk-parallel-item:only-child::after {width: 0;}#sk-container-id-1 div.sk-dashed-wrapped {border: 1px dashed gray;margin: 0 0.4em 0.5em 0.4em;box-sizing: border-box;padding-bottom: 0.4em;background-color: white;}#sk-container-id-1 div.sk-label label {font-family: monospace;font-weight: bold;display: inline-block;line-height: 1.2em;}#sk-container-id-1 div.sk-label-container {text-align: center;}#sk-container-id-1 div.sk-container {/* jupyter's `normalize.less` sets `[hidden] { display: none; }` but bootstrap.min.css set `[hidden] { display: none !important; }` so we also need the `!important` here to be able to override the default hidden behavior on the sphinx rendered scikit-learn.org. See: https://github.com/scikit-learn/scikit-learn/issues/21755 */display: inline-block !important;position: relative;}#sk-container-id-1 div.sk-text-repr-fallback {display: none;}</style><div id=\"sk-container-id-1\" class=\"sk-top-container\"><div class=\"sk-text-repr-fallback\"><pre>SVC()</pre><b>In a Jupyter environment, please rerun this cell to show the HTML representation or trust the notebook. <br />On GitHub, the HTML representation is unable to render, please try loading this page with nbviewer.org.</b></div><div class=\"sk-container\" hidden><div class=\"sk-item\"><div class=\"sk-estimator sk-toggleable\"><input class=\"sk-toggleable__control sk-hidden--visually\" id=\"sk-estimator-id-1\" type=\"checkbox\" checked><label for=\"sk-estimator-id-1\" class=\"sk-toggleable__label sk-toggleable__label-arrow\">SVC</label><div class=\"sk-toggleable__content\"><pre>SVC()</pre></div></div></div></div></div>"
      ],
      "text/plain": [
       "SVC()"
      ]
     },
     "execution_count": 26,
     "metadata": {},
     "output_type": "execute_result"
    }
   ],
   "source": [
    "svc.fit(x_train, y_train)"
   ]
  },
  {
   "cell_type": "code",
   "execution_count": 27,
   "id": "b3253555",
   "metadata": {
    "execution": {
     "iopub.execute_input": "2023-06-14T03:08:43.665672Z",
     "iopub.status.busy": "2023-06-14T03:08:43.665297Z",
     "iopub.status.idle": "2023-06-14T03:08:43.970329Z",
     "shell.execute_reply": "2023-06-14T03:08:43.969284Z"
    },
    "executionInfo": {
     "elapsed": 2442,
     "status": "ok",
     "timestamp": 1686711004780,
     "user": {
      "displayName": "Venu V",
      "userId": "08098080155789612531"
     },
     "user_tz": -330
    },
    "id": "kk1k2uxhzzHa",
    "papermill": {
     "duration": 0.332831,
     "end_time": "2023-06-14T03:08:43.973069",
     "exception": false,
     "start_time": "2023-06-14T03:08:43.640238",
     "status": "completed"
    },
    "tags": []
   },
   "outputs": [],
   "source": [
    "y_pred = svc.predict(x_test)"
   ]
  },
  {
   "cell_type": "code",
   "execution_count": 28,
   "id": "2b12df9f",
   "metadata": {
    "execution": {
     "iopub.execute_input": "2023-06-14T03:08:44.020063Z",
     "iopub.status.busy": "2023-06-14T03:08:44.019620Z",
     "iopub.status.idle": "2023-06-14T03:08:44.026870Z",
     "shell.execute_reply": "2023-06-14T03:08:44.025746Z"
    },
    "executionInfo": {
     "elapsed": 415,
     "status": "ok",
     "timestamp": 1686711016453,
     "user": {
      "displayName": "Venu V",
      "userId": "08098080155789612531"
     },
     "user_tz": -330
    },
    "id": "_5QWFBtDz3Va",
    "outputId": "49d0b657-e908-46ca-ca4d-fdb876c24d71",
    "papermill": {
     "duration": 0.033234,
     "end_time": "2023-06-14T03:08:44.029076",
     "exception": false,
     "start_time": "2023-06-14T03:08:43.995842",
     "status": "completed"
    },
    "tags": []
   },
   "outputs": [
    {
     "data": {
      "text/plain": [
       "(1470,)"
      ]
     },
     "execution_count": 28,
     "metadata": {},
     "output_type": "execute_result"
    }
   ],
   "source": [
    "y_pred.shape"
   ]
  },
  {
   "cell_type": "code",
   "execution_count": 29,
   "id": "35f8fe70",
   "metadata": {
    "execution": {
     "iopub.execute_input": "2023-06-14T03:08:44.075544Z",
     "iopub.status.busy": "2023-06-14T03:08:44.075122Z",
     "iopub.status.idle": "2023-06-14T03:08:44.082259Z",
     "shell.execute_reply": "2023-06-14T03:08:44.081165Z"
    },
    "executionInfo": {
     "elapsed": 429,
     "status": "ok",
     "timestamp": 1686711028136,
     "user": {
      "displayName": "Venu V",
      "userId": "08098080155789612531"
     },
     "user_tz": -330
    },
    "id": "ZhF5EAJpz55T",
    "outputId": "053c64f6-99ca-45a8-b26a-49b044345f81",
    "papermill": {
     "duration": 0.033222,
     "end_time": "2023-06-14T03:08:44.084541",
     "exception": false,
     "start_time": "2023-06-14T03:08:44.051319",
     "status": "completed"
    },
    "tags": []
   },
   "outputs": [
    {
     "data": {
      "text/plain": [
       "array([6, 6, 5, ..., 6, 5, 5])"
      ]
     },
     "execution_count": 29,
     "metadata": {},
     "output_type": "execute_result"
    }
   ],
   "source": [
    "y_pred"
   ]
  },
  {
   "cell_type": "code",
   "execution_count": 30,
   "id": "7661b48c",
   "metadata": {
    "execution": {
     "iopub.execute_input": "2023-06-14T03:08:44.131484Z",
     "iopub.status.busy": "2023-06-14T03:08:44.131072Z",
     "iopub.status.idle": "2023-06-14T03:08:44.136137Z",
     "shell.execute_reply": "2023-06-14T03:08:44.135198Z"
    },
    "executionInfo": {
     "elapsed": 433,
     "status": "ok",
     "timestamp": 1686711043225,
     "user": {
      "displayName": "Venu V",
      "userId": "08098080155789612531"
     },
     "user_tz": -330
    },
    "id": "bALZJR4Oz8-q",
    "papermill": {
     "duration": 0.030983,
     "end_time": "2023-06-14T03:08:44.138162",
     "exception": false,
     "start_time": "2023-06-14T03:08:44.107179",
     "status": "completed"
    },
    "tags": []
   },
   "outputs": [],
   "source": [
    "from sklearn.metrics import confusion_matrix, classification_report"
   ]
  },
  {
   "cell_type": "code",
   "execution_count": 31,
   "id": "89590cbf",
   "metadata": {
    "execution": {
     "iopub.execute_input": "2023-06-14T03:08:44.185215Z",
     "iopub.status.busy": "2023-06-14T03:08:44.184794Z",
     "iopub.status.idle": "2023-06-14T03:08:44.194682Z",
     "shell.execute_reply": "2023-06-14T03:08:44.193605Z"
    },
    "executionInfo": {
     "elapsed": 8,
     "status": "ok",
     "timestamp": 1686711088658,
     "user": {
      "displayName": "Venu V",
      "userId": "08098080155789612531"
     },
     "user_tz": -330
    },
    "id": "Ym0POuJp0IH3",
    "outputId": "a2737b9e-1231-42bc-f4ec-22f084e63830",
    "papermill": {
     "duration": 0.0359,
     "end_time": "2023-06-14T03:08:44.196723",
     "exception": false,
     "start_time": "2023-06-14T03:08:44.160823",
     "status": "completed"
    },
    "tags": []
   },
   "outputs": [
    {
     "name": "stdout",
     "output_type": "stream",
     "text": [
      "[[  0   0   1   5   0   0   0]\n",
      " [  0   1  33  15   0   0   0]\n",
      " [  0   0 243 193   1   0   0]\n",
      " [  0   0 126 508  26   0   0]\n",
      " [  0   0  12 185  67   0   0]\n",
      " [  0   0   0  37  16   0   0]\n",
      " [  0   0   0   0   1   0   0]]\n"
     ]
    }
   ],
   "source": [
    "print(confusion_matrix(y_test, y_pred))"
   ]
  },
  {
   "cell_type": "code",
   "execution_count": 32,
   "id": "295b4886",
   "metadata": {
    "execution": {
     "iopub.execute_input": "2023-06-14T03:08:44.244649Z",
     "iopub.status.busy": "2023-06-14T03:08:44.243823Z",
     "iopub.status.idle": "2023-06-14T03:08:44.264012Z",
     "shell.execute_reply": "2023-06-14T03:08:44.262764Z"
    },
    "executionInfo": {
     "elapsed": 470,
     "status": "ok",
     "timestamp": 1686711103202,
     "user": {
      "displayName": "Venu V",
      "userId": "08098080155789612531"
     },
     "user_tz": -330
    },
    "id": "MZ0jQaEK0MAX",
    "outputId": "2f79277d-c41c-4793-ab04-328de185b629",
    "papermill": {
     "duration": 0.046595,
     "end_time": "2023-06-14T03:08:44.266278",
     "exception": false,
     "start_time": "2023-06-14T03:08:44.219683",
     "status": "completed"
    },
    "tags": []
   },
   "outputs": [
    {
     "name": "stdout",
     "output_type": "stream",
     "text": [
      "              precision    recall  f1-score   support\n",
      "\n",
      "           3       0.00      0.00      0.00         6\n",
      "           4       1.00      0.02      0.04        49\n",
      "           5       0.59      0.56      0.57       437\n",
      "           6       0.54      0.77      0.63       660\n",
      "           7       0.60      0.25      0.36       264\n",
      "           8       0.00      0.00      0.00        53\n",
      "           9       0.00      0.00      0.00         1\n",
      "\n",
      "    accuracy                           0.56      1470\n",
      "   macro avg       0.39      0.23      0.23      1470\n",
      "weighted avg       0.56      0.56      0.52      1470\n",
      "\n"
     ]
    },
    {
     "name": "stderr",
     "output_type": "stream",
     "text": [
      "/opt/conda/lib/python3.10/site-packages/sklearn/metrics/_classification.py:1344: UndefinedMetricWarning: Precision and F-score are ill-defined and being set to 0.0 in labels with no predicted samples. Use `zero_division` parameter to control this behavior.\n",
      "  _warn_prf(average, modifier, msg_start, len(result))\n",
      "/opt/conda/lib/python3.10/site-packages/sklearn/metrics/_classification.py:1344: UndefinedMetricWarning: Precision and F-score are ill-defined and being set to 0.0 in labels with no predicted samples. Use `zero_division` parameter to control this behavior.\n",
      "  _warn_prf(average, modifier, msg_start, len(result))\n",
      "/opt/conda/lib/python3.10/site-packages/sklearn/metrics/_classification.py:1344: UndefinedMetricWarning: Precision and F-score are ill-defined and being set to 0.0 in labels with no predicted samples. Use `zero_division` parameter to control this behavior.\n",
      "  _warn_prf(average, modifier, msg_start, len(result))\n"
     ]
    }
   ],
   "source": [
    "print(classification_report(y_test, y_pred))"
   ]
  },
  {
   "cell_type": "code",
   "execution_count": 33,
   "id": "7fd7bd5e",
   "metadata": {
    "execution": {
     "iopub.execute_input": "2023-06-14T03:08:44.313940Z",
     "iopub.status.busy": "2023-06-14T03:08:44.313545Z",
     "iopub.status.idle": "2023-06-14T03:08:44.323125Z",
     "shell.execute_reply": "2023-06-14T03:08:44.322037Z"
    },
    "executionInfo": {
     "elapsed": 452,
     "status": "ok",
     "timestamp": 1686711119673,
     "user": {
      "displayName": "Venu V",
      "userId": "08098080155789612531"
     },
     "user_tz": -330
    },
    "id": "us3Fgz1t0PHv",
    "papermill": {
     "duration": 0.036134,
     "end_time": "2023-06-14T03:08:44.325484",
     "exception": false,
     "start_time": "2023-06-14T03:08:44.289350",
     "status": "completed"
    },
    "tags": []
   },
   "outputs": [],
   "source": [
    "y = df['quality'].apply(lambda y_value: 1 if y_value>=6 else 0)\n"
   ]
  },
  {
   "cell_type": "code",
   "execution_count": 34,
   "id": "8dd375a7",
   "metadata": {
    "execution": {
     "iopub.execute_input": "2023-06-14T03:08:44.373786Z",
     "iopub.status.busy": "2023-06-14T03:08:44.373371Z",
     "iopub.status.idle": "2023-06-14T03:08:44.381973Z",
     "shell.execute_reply": "2023-06-14T03:08:44.380939Z"
    },
    "executionInfo": {
     "elapsed": 8,
     "status": "ok",
     "timestamp": 1686711130260,
     "user": {
      "displayName": "Venu V",
      "userId": "08098080155789612531"
     },
     "user_tz": -330
    },
    "id": "8BoN_bzO0TJK",
    "outputId": "5bf526cc-e4ce-46ff-eeed-c1d052f51c57",
    "papermill": {
     "duration": 0.035208,
     "end_time": "2023-06-14T03:08:44.384099",
     "exception": false,
     "start_time": "2023-06-14T03:08:44.348891",
     "status": "completed"
    },
    "tags": []
   },
   "outputs": [
    {
     "data": {
      "text/plain": [
       "1    3258\n",
       "0    1640\n",
       "Name: quality, dtype: int64"
      ]
     },
     "execution_count": 34,
     "metadata": {},
     "output_type": "execute_result"
    }
   ],
   "source": [
    "y.value_counts()"
   ]
  },
  {
   "cell_type": "code",
   "execution_count": 35,
   "id": "7bbdf6a6",
   "metadata": {
    "execution": {
     "iopub.execute_input": "2023-06-14T03:08:44.432633Z",
     "iopub.status.busy": "2023-06-14T03:08:44.432223Z",
     "iopub.status.idle": "2023-06-14T03:08:44.436949Z",
     "shell.execute_reply": "2023-06-14T03:08:44.436028Z"
    },
    "executionInfo": {
     "elapsed": 423,
     "status": "ok",
     "timestamp": 1686711144698,
     "user": {
      "displayName": "Venu V",
      "userId": "08098080155789612531"
     },
     "user_tz": -330
    },
    "id": "xcOB5bP30VzX",
    "papermill": {
     "duration": 0.031603,
     "end_time": "2023-06-14T03:08:44.439082",
     "exception": false,
     "start_time": "2023-06-14T03:08:44.407479",
     "status": "completed"
    },
    "tags": []
   },
   "outputs": [],
   "source": [
    "from sklearn.model_selection import train_test_split"
   ]
  },
  {
   "cell_type": "code",
   "execution_count": 36,
   "id": "d4556c86",
   "metadata": {
    "execution": {
     "iopub.execute_input": "2023-06-14T03:08:44.488060Z",
     "iopub.status.busy": "2023-06-14T03:08:44.487634Z",
     "iopub.status.idle": "2023-06-14T03:08:44.497477Z",
     "shell.execute_reply": "2023-06-14T03:08:44.496442Z"
    },
    "executionInfo": {
     "elapsed": 466,
     "status": "ok",
     "timestamp": 1686711156232,
     "user": {
      "displayName": "Venu V",
      "userId": "08098080155789612531"
     },
     "user_tz": -330
    },
    "id": "N9ndqFl90ZL8",
    "papermill": {
     "duration": 0.036765,
     "end_time": "2023-06-14T03:08:44.499810",
     "exception": false,
     "start_time": "2023-06-14T03:08:44.463045",
     "status": "completed"
    },
    "tags": []
   },
   "outputs": [],
   "source": [
    "x_train, x_test, y_train, y_test = train_test_split(x,y, test_size = 0.3, stratify = y, random_state=222529)\n"
   ]
  },
  {
   "cell_type": "code",
   "execution_count": 37,
   "id": "66366750",
   "metadata": {
    "execution": {
     "iopub.execute_input": "2023-06-14T03:08:44.549541Z",
     "iopub.status.busy": "2023-06-14T03:08:44.549135Z",
     "iopub.status.idle": "2023-06-14T03:08:44.556433Z",
     "shell.execute_reply": "2023-06-14T03:08:44.555411Z"
    },
    "executionInfo": {
     "elapsed": 493,
     "status": "ok",
     "timestamp": 1686711167994,
     "user": {
      "displayName": "Venu V",
      "userId": "08098080155789612531"
     },
     "user_tz": -330
    },
    "id": "GetcFeZH0cOf",
    "outputId": "79202165-aa9a-4d7c-bf7e-24471e2be177",
    "papermill": {
     "duration": 0.034871,
     "end_time": "2023-06-14T03:08:44.558617",
     "exception": false,
     "start_time": "2023-06-14T03:08:44.523746",
     "status": "completed"
    },
    "tags": []
   },
   "outputs": [
    {
     "data": {
      "text/plain": [
       "((3428, 11), (1470, 11), (3428,), (1470,))"
      ]
     },
     "execution_count": 37,
     "metadata": {},
     "output_type": "execute_result"
    }
   ],
   "source": [
    "x_train.shape, x_test.shape, y_train.shape, y_test.shape\n"
   ]
  },
  {
   "cell_type": "code",
   "execution_count": 38,
   "id": "346b1732",
   "metadata": {
    "execution": {
     "iopub.execute_input": "2023-06-14T03:08:44.607758Z",
     "iopub.status.busy": "2023-06-14T03:08:44.607346Z",
     "iopub.status.idle": "2023-06-14T03:08:44.611782Z",
     "shell.execute_reply": "2023-06-14T03:08:44.611034Z"
    },
    "executionInfo": {
     "elapsed": 437,
     "status": "ok",
     "timestamp": 1686711185186,
     "user": {
      "displayName": "Venu V",
      "userId": "08098080155789612531"
     },
     "user_tz": -330
    },
    "id": "nn2_O8Ij0fFm",
    "papermill": {
     "duration": 0.031435,
     "end_time": "2023-06-14T03:08:44.613817",
     "exception": false,
     "start_time": "2023-06-14T03:08:44.582382",
     "status": "completed"
    },
    "tags": []
   },
   "outputs": [],
   "source": [
    "from sklearn.svm import SVC"
   ]
  },
  {
   "cell_type": "code",
   "execution_count": 39,
   "id": "e295e190",
   "metadata": {
    "execution": {
     "iopub.execute_input": "2023-06-14T03:08:44.663377Z",
     "iopub.status.busy": "2023-06-14T03:08:44.662924Z",
     "iopub.status.idle": "2023-06-14T03:08:44.667851Z",
     "shell.execute_reply": "2023-06-14T03:08:44.666784Z"
    },
    "executionInfo": {
     "elapsed": 5,
     "status": "ok",
     "timestamp": 1686711199273,
     "user": {
      "displayName": "Venu V",
      "userId": "08098080155789612531"
     },
     "user_tz": -330
    },
    "id": "fVJQF2SG0jgy",
    "papermill": {
     "duration": 0.03281,
     "end_time": "2023-06-14T03:08:44.670439",
     "exception": false,
     "start_time": "2023-06-14T03:08:44.637629",
     "status": "completed"
    },
    "tags": []
   },
   "outputs": [],
   "source": [
    "svc = SVC()"
   ]
  },
  {
   "cell_type": "code",
   "execution_count": 40,
   "id": "b9c8fd90",
   "metadata": {
    "execution": {
     "iopub.execute_input": "2023-06-14T03:08:44.723383Z",
     "iopub.status.busy": "2023-06-14T03:08:44.722943Z",
     "iopub.status.idle": "2023-06-14T03:08:45.131922Z",
     "shell.execute_reply": "2023-06-14T03:08:45.131003Z"
    },
    "executionInfo": {
     "elapsed": 1158,
     "status": "ok",
     "timestamp": 1686711211210,
     "user": {
      "displayName": "Venu V",
      "userId": "08098080155789612531"
     },
     "user_tz": -330
    },
    "id": "A1KkyBj10nDO",
    "outputId": "1c2223e3-3e41-4170-8f4f-99787939992f",
    "papermill": {
     "duration": 0.439417,
     "end_time": "2023-06-14T03:08:45.134260",
     "exception": false,
     "start_time": "2023-06-14T03:08:44.694843",
     "status": "completed"
    },
    "tags": []
   },
   "outputs": [
    {
     "data": {
      "text/html": [
       "<style>#sk-container-id-2 {color: black;background-color: white;}#sk-container-id-2 pre{padding: 0;}#sk-container-id-2 div.sk-toggleable {background-color: white;}#sk-container-id-2 label.sk-toggleable__label {cursor: pointer;display: block;width: 100%;margin-bottom: 0;padding: 0.3em;box-sizing: border-box;text-align: center;}#sk-container-id-2 label.sk-toggleable__label-arrow:before {content: \"▸\";float: left;margin-right: 0.25em;color: #696969;}#sk-container-id-2 label.sk-toggleable__label-arrow:hover:before {color: black;}#sk-container-id-2 div.sk-estimator:hover label.sk-toggleable__label-arrow:before {color: black;}#sk-container-id-2 div.sk-toggleable__content {max-height: 0;max-width: 0;overflow: hidden;text-align: left;background-color: #f0f8ff;}#sk-container-id-2 div.sk-toggleable__content pre {margin: 0.2em;color: black;border-radius: 0.25em;background-color: #f0f8ff;}#sk-container-id-2 input.sk-toggleable__control:checked~div.sk-toggleable__content {max-height: 200px;max-width: 100%;overflow: auto;}#sk-container-id-2 input.sk-toggleable__control:checked~label.sk-toggleable__label-arrow:before {content: \"▾\";}#sk-container-id-2 div.sk-estimator input.sk-toggleable__control:checked~label.sk-toggleable__label {background-color: #d4ebff;}#sk-container-id-2 div.sk-label input.sk-toggleable__control:checked~label.sk-toggleable__label {background-color: #d4ebff;}#sk-container-id-2 input.sk-hidden--visually {border: 0;clip: rect(1px 1px 1px 1px);clip: rect(1px, 1px, 1px, 1px);height: 1px;margin: -1px;overflow: hidden;padding: 0;position: absolute;width: 1px;}#sk-container-id-2 div.sk-estimator {font-family: monospace;background-color: #f0f8ff;border: 1px dotted black;border-radius: 0.25em;box-sizing: border-box;margin-bottom: 0.5em;}#sk-container-id-2 div.sk-estimator:hover {background-color: #d4ebff;}#sk-container-id-2 div.sk-parallel-item::after {content: \"\";width: 100%;border-bottom: 1px solid gray;flex-grow: 1;}#sk-container-id-2 div.sk-label:hover label.sk-toggleable__label {background-color: #d4ebff;}#sk-container-id-2 div.sk-serial::before {content: \"\";position: absolute;border-left: 1px solid gray;box-sizing: border-box;top: 0;bottom: 0;left: 50%;z-index: 0;}#sk-container-id-2 div.sk-serial {display: flex;flex-direction: column;align-items: center;background-color: white;padding-right: 0.2em;padding-left: 0.2em;position: relative;}#sk-container-id-2 div.sk-item {position: relative;z-index: 1;}#sk-container-id-2 div.sk-parallel {display: flex;align-items: stretch;justify-content: center;background-color: white;position: relative;}#sk-container-id-2 div.sk-item::before, #sk-container-id-2 div.sk-parallel-item::before {content: \"\";position: absolute;border-left: 1px solid gray;box-sizing: border-box;top: 0;bottom: 0;left: 50%;z-index: -1;}#sk-container-id-2 div.sk-parallel-item {display: flex;flex-direction: column;z-index: 1;position: relative;background-color: white;}#sk-container-id-2 div.sk-parallel-item:first-child::after {align-self: flex-end;width: 50%;}#sk-container-id-2 div.sk-parallel-item:last-child::after {align-self: flex-start;width: 50%;}#sk-container-id-2 div.sk-parallel-item:only-child::after {width: 0;}#sk-container-id-2 div.sk-dashed-wrapped {border: 1px dashed gray;margin: 0 0.4em 0.5em 0.4em;box-sizing: border-box;padding-bottom: 0.4em;background-color: white;}#sk-container-id-2 div.sk-label label {font-family: monospace;font-weight: bold;display: inline-block;line-height: 1.2em;}#sk-container-id-2 div.sk-label-container {text-align: center;}#sk-container-id-2 div.sk-container {/* jupyter's `normalize.less` sets `[hidden] { display: none; }` but bootstrap.min.css set `[hidden] { display: none !important; }` so we also need the `!important` here to be able to override the default hidden behavior on the sphinx rendered scikit-learn.org. See: https://github.com/scikit-learn/scikit-learn/issues/21755 */display: inline-block !important;position: relative;}#sk-container-id-2 div.sk-text-repr-fallback {display: none;}</style><div id=\"sk-container-id-2\" class=\"sk-top-container\"><div class=\"sk-text-repr-fallback\"><pre>SVC()</pre><b>In a Jupyter environment, please rerun this cell to show the HTML representation or trust the notebook. <br />On GitHub, the HTML representation is unable to render, please try loading this page with nbviewer.org.</b></div><div class=\"sk-container\" hidden><div class=\"sk-item\"><div class=\"sk-estimator sk-toggleable\"><input class=\"sk-toggleable__control sk-hidden--visually\" id=\"sk-estimator-id-2\" type=\"checkbox\" checked><label for=\"sk-estimator-id-2\" class=\"sk-toggleable__label sk-toggleable__label-arrow\">SVC</label><div class=\"sk-toggleable__content\"><pre>SVC()</pre></div></div></div></div></div>"
      ],
      "text/plain": [
       "SVC()"
      ]
     },
     "execution_count": 40,
     "metadata": {},
     "output_type": "execute_result"
    }
   ],
   "source": [
    "svc.fit(x_train, y_train)"
   ]
  },
  {
   "cell_type": "code",
   "execution_count": 41,
   "id": "2e92ed08",
   "metadata": {
    "execution": {
     "iopub.execute_input": "2023-06-14T03:08:45.184811Z",
     "iopub.status.busy": "2023-06-14T03:08:45.184436Z",
     "iopub.status.idle": "2023-06-14T03:08:45.350824Z",
     "shell.execute_reply": "2023-06-14T03:08:45.349778Z"
    },
    "executionInfo": {
     "elapsed": 1175,
     "status": "ok",
     "timestamp": 1686711234547,
     "user": {
      "displayName": "Venu V",
      "userId": "08098080155789612531"
     },
     "user_tz": -330
    },
    "id": "v9Zd-26x0pVA",
    "papermill": {
     "duration": 0.194576,
     "end_time": "2023-06-14T03:08:45.353447",
     "exception": false,
     "start_time": "2023-06-14T03:08:45.158871",
     "status": "completed"
    },
    "tags": []
   },
   "outputs": [],
   "source": [
    "y_pred = svc.predict(x_test)\n"
   ]
  },
  {
   "cell_type": "code",
   "execution_count": 42,
   "id": "aa07498c",
   "metadata": {
    "execution": {
     "iopub.execute_input": "2023-06-14T03:08:45.404402Z",
     "iopub.status.busy": "2023-06-14T03:08:45.404034Z",
     "iopub.status.idle": "2023-06-14T03:08:45.410366Z",
     "shell.execute_reply": "2023-06-14T03:08:45.409392Z"
    },
    "executionInfo": {
     "elapsed": 8,
     "status": "ok",
     "timestamp": 1686711243379,
     "user": {
      "displayName": "Venu V",
      "userId": "08098080155789612531"
     },
     "user_tz": -330
    },
    "id": "oAklmWWW0vLG",
    "outputId": "1c17a97e-9e69-4fd3-bb91-f9f8eb23897d",
    "papermill": {
     "duration": 0.034229,
     "end_time": "2023-06-14T03:08:45.412584",
     "exception": false,
     "start_time": "2023-06-14T03:08:45.378355",
     "status": "completed"
    },
    "tags": []
   },
   "outputs": [
    {
     "data": {
      "text/plain": [
       "(1470,)"
      ]
     },
     "execution_count": 42,
     "metadata": {},
     "output_type": "execute_result"
    }
   ],
   "source": [
    "y_pred.shape"
   ]
  },
  {
   "cell_type": "code",
   "execution_count": 43,
   "id": "3aedf27e",
   "metadata": {
    "execution": {
     "iopub.execute_input": "2023-06-14T03:08:45.463469Z",
     "iopub.status.busy": "2023-06-14T03:08:45.463073Z",
     "iopub.status.idle": "2023-06-14T03:08:45.469467Z",
     "shell.execute_reply": "2023-06-14T03:08:45.468477Z"
    },
    "executionInfo": {
     "elapsed": 10,
     "status": "ok",
     "timestamp": 1686711255961,
     "user": {
      "displayName": "Venu V",
      "userId": "08098080155789612531"
     },
     "user_tz": -330
    },
    "id": "qk7t1GNE0xXU",
    "outputId": "8801b292-85f9-4bba-8169-83621b80c743",
    "papermill": {
     "duration": 0.034521,
     "end_time": "2023-06-14T03:08:45.471596",
     "exception": false,
     "start_time": "2023-06-14T03:08:45.437075",
     "status": "completed"
    },
    "tags": []
   },
   "outputs": [
    {
     "data": {
      "text/plain": [
       "array([1, 1, 1, ..., 1, 1, 0])"
      ]
     },
     "execution_count": 43,
     "metadata": {},
     "output_type": "execute_result"
    }
   ],
   "source": [
    "y_pred"
   ]
  },
  {
   "cell_type": "code",
   "execution_count": 44,
   "id": "72c3427c",
   "metadata": {
    "execution": {
     "iopub.execute_input": "2023-06-14T03:08:45.522796Z",
     "iopub.status.busy": "2023-06-14T03:08:45.522422Z",
     "iopub.status.idle": "2023-06-14T03:08:45.527063Z",
     "shell.execute_reply": "2023-06-14T03:08:45.525907Z"
    },
    "executionInfo": {
     "elapsed": 439,
     "status": "ok",
     "timestamp": 1686711267978,
     "user": {
      "displayName": "Venu V",
      "userId": "08098080155789612531"
     },
     "user_tz": -330
    },
    "id": "mfNPo0cC00W8",
    "papermill": {
     "duration": 0.032854,
     "end_time": "2023-06-14T03:08:45.529308",
     "exception": false,
     "start_time": "2023-06-14T03:08:45.496454",
     "status": "completed"
    },
    "tags": []
   },
   "outputs": [],
   "source": [
    "from sklearn.metrics import confusion_matrix, classification_report\n"
   ]
  },
  {
   "cell_type": "code",
   "execution_count": 45,
   "id": "caed09a0",
   "metadata": {
    "execution": {
     "iopub.execute_input": "2023-06-14T03:08:45.580154Z",
     "iopub.status.busy": "2023-06-14T03:08:45.579763Z",
     "iopub.status.idle": "2023-06-14T03:08:45.587255Z",
     "shell.execute_reply": "2023-06-14T03:08:45.586121Z"
    },
    "executionInfo": {
     "elapsed": 443,
     "status": "ok",
     "timestamp": 1686711285674,
     "user": {
      "displayName": "Venu V",
      "userId": "08098080155789612531"
     },
     "user_tz": -330
    },
    "id": "1iUx1j6W04ot",
    "outputId": "1113cbb4-56dd-467e-84d1-a7d23ccb4080",
    "papermill": {
     "duration": 0.035577,
     "end_time": "2023-06-14T03:08:45.589404",
     "exception": false,
     "start_time": "2023-06-14T03:08:45.553827",
     "status": "completed"
    },
    "tags": []
   },
   "outputs": [
    {
     "name": "stdout",
     "output_type": "stream",
     "text": [
      "[[293 199]\n",
      " [136 842]]\n"
     ]
    }
   ],
   "source": [
    "print(confusion_matrix(y_test, y_pred))\n"
   ]
  },
  {
   "cell_type": "code",
   "execution_count": 46,
   "id": "f2545006",
   "metadata": {
    "execution": {
     "iopub.execute_input": "2023-06-14T03:08:45.640542Z",
     "iopub.status.busy": "2023-06-14T03:08:45.640181Z",
     "iopub.status.idle": "2023-06-14T03:08:45.655291Z",
     "shell.execute_reply": "2023-06-14T03:08:45.653987Z"
    },
    "executionInfo": {
     "elapsed": 677,
     "status": "ok",
     "timestamp": 1686711297134,
     "user": {
      "displayName": "Venu V",
      "userId": "08098080155789612531"
     },
     "user_tz": -330
    },
    "id": "8KRtRYY407pB",
    "outputId": "b321fd52-fa61-4a02-e862-669aa949a72e",
    "papermill": {
     "duration": 0.043143,
     "end_time": "2023-06-14T03:08:45.657319",
     "exception": false,
     "start_time": "2023-06-14T03:08:45.614176",
     "status": "completed"
    },
    "tags": []
   },
   "outputs": [
    {
     "name": "stdout",
     "output_type": "stream",
     "text": [
      "              precision    recall  f1-score   support\n",
      "\n",
      "           0       0.68      0.60      0.64       492\n",
      "           1       0.81      0.86      0.83       978\n",
      "\n",
      "    accuracy                           0.77      1470\n",
      "   macro avg       0.75      0.73      0.74      1470\n",
      "weighted avg       0.77      0.77      0.77      1470\n",
      "\n"
     ]
    }
   ],
   "source": [
    "print(classification_report(y_test, y_pred))"
   ]
  },
  {
   "cell_type": "code",
   "execution_count": 47,
   "id": "3cd575f1",
   "metadata": {
    "execution": {
     "iopub.execute_input": "2023-06-14T03:08:45.709360Z",
     "iopub.status.busy": "2023-06-14T03:08:45.708916Z",
     "iopub.status.idle": "2023-06-14T03:08:45.715458Z",
     "shell.execute_reply": "2023-06-14T03:08:45.714465Z"
    },
    "executionInfo": {
     "elapsed": 436,
     "status": "ok",
     "timestamp": 1686711313488,
     "user": {
      "displayName": "Venu V",
      "userId": "08098080155789612531"
     },
     "user_tz": -330
    },
    "id": "BSyB7g2D0_dp",
    "papermill": {
     "duration": 0.034991,
     "end_time": "2023-06-14T03:08:45.717518",
     "exception": false,
     "start_time": "2023-06-14T03:08:45.682527",
     "status": "completed"
    },
    "tags": []
   },
   "outputs": [],
   "source": [
    "df_new = df.sample(1)"
   ]
  },
  {
   "cell_type": "code",
   "execution_count": 48,
   "id": "7d0d5aa6",
   "metadata": {
    "execution": {
     "iopub.execute_input": "2023-06-14T03:08:45.769723Z",
     "iopub.status.busy": "2023-06-14T03:08:45.769320Z",
     "iopub.status.idle": "2023-06-14T03:08:45.786656Z",
     "shell.execute_reply": "2023-06-14T03:08:45.785601Z"
    },
    "executionInfo": {
     "elapsed": 18,
     "status": "ok",
     "timestamp": 1686711325847,
     "user": {
      "displayName": "Venu V",
      "userId": "08098080155789612531"
     },
     "user_tz": -330
    },
    "id": "bRYJlZ6r1Cp0",
    "outputId": "db1e2ba0-5382-4b16-aaf2-fd7c2a5bb766",
    "papermill": {
     "duration": 0.045648,
     "end_time": "2023-06-14T03:08:45.788858",
     "exception": false,
     "start_time": "2023-06-14T03:08:45.743210",
     "status": "completed"
    },
    "tags": []
   },
   "outputs": [
    {
     "data": {
      "text/html": [
       "<div>\n",
       "<style scoped>\n",
       "    .dataframe tbody tr th:only-of-type {\n",
       "        vertical-align: middle;\n",
       "    }\n",
       "\n",
       "    .dataframe tbody tr th {\n",
       "        vertical-align: top;\n",
       "    }\n",
       "\n",
       "    .dataframe thead th {\n",
       "        text-align: right;\n",
       "    }\n",
       "</style>\n",
       "<table border=\"1\" class=\"dataframe\">\n",
       "  <thead>\n",
       "    <tr style=\"text-align: right;\">\n",
       "      <th></th>\n",
       "      <th>fixed acidity</th>\n",
       "      <th>volatile acidity</th>\n",
       "      <th>citric acid</th>\n",
       "      <th>residual sugar</th>\n",
       "      <th>chlorides</th>\n",
       "      <th>free sulfur dioxide</th>\n",
       "      <th>total sulfur dioxide</th>\n",
       "      <th>density</th>\n",
       "      <th>pH</th>\n",
       "      <th>sulphates</th>\n",
       "      <th>alcohol</th>\n",
       "      <th>quality</th>\n",
       "    </tr>\n",
       "  </thead>\n",
       "  <tbody>\n",
       "    <tr>\n",
       "      <th>876</th>\n",
       "      <td>6.9</td>\n",
       "      <td>0.36</td>\n",
       "      <td>0.34</td>\n",
       "      <td>4.2</td>\n",
       "      <td>0.018</td>\n",
       "      <td>57.0</td>\n",
       "      <td>119.0</td>\n",
       "      <td>0.9898</td>\n",
       "      <td>3.28</td>\n",
       "      <td>0.36</td>\n",
       "      <td>12.7</td>\n",
       "      <td>9</td>\n",
       "    </tr>\n",
       "  </tbody>\n",
       "</table>\n",
       "</div>"
      ],
      "text/plain": [
       "     fixed acidity  volatile acidity  citric acid  residual sugar  chlorides  \\\n",
       "876            6.9              0.36         0.34             4.2      0.018   \n",
       "\n",
       "     free sulfur dioxide  total sulfur dioxide  density    pH  sulphates  \\\n",
       "876                 57.0                 119.0   0.9898  3.28       0.36   \n",
       "\n",
       "     alcohol  quality  \n",
       "876     12.7        9  "
      ]
     },
     "execution_count": 48,
     "metadata": {},
     "output_type": "execute_result"
    }
   ],
   "source": [
    "df_new"
   ]
  },
  {
   "cell_type": "code",
   "execution_count": 49,
   "id": "697a8021",
   "metadata": {
    "execution": {
     "iopub.execute_input": "2023-06-14T03:08:45.843043Z",
     "iopub.status.busy": "2023-06-14T03:08:45.842611Z",
     "iopub.status.idle": "2023-06-14T03:08:45.849663Z",
     "shell.execute_reply": "2023-06-14T03:08:45.848569Z"
    },
    "executionInfo": {
     "elapsed": 431,
     "status": "ok",
     "timestamp": 1686711382132,
     "user": {
      "displayName": "Venu V",
      "userId": "08098080155789612531"
     },
     "user_tz": -330
    },
    "id": "a1O7H4vx1G5F",
    "outputId": "df31b487-d1a9-41fd-b5ce-2bb9fb7a00ff",
    "papermill": {
     "duration": 0.037329,
     "end_time": "2023-06-14T03:08:45.851812",
     "exception": false,
     "start_time": "2023-06-14T03:08:45.814483",
     "status": "completed"
    },
    "tags": []
   },
   "outputs": [
    {
     "data": {
      "text/plain": [
       "(1, 12)"
      ]
     },
     "execution_count": 49,
     "metadata": {},
     "output_type": "execute_result"
    }
   ],
   "source": [
    "df_new.shape\n"
   ]
  },
  {
   "cell_type": "code",
   "execution_count": 50,
   "id": "830dd4da",
   "metadata": {
    "execution": {
     "iopub.execute_input": "2023-06-14T03:08:45.904834Z",
     "iopub.status.busy": "2023-06-14T03:08:45.904407Z",
     "iopub.status.idle": "2023-06-14T03:08:45.910255Z",
     "shell.execute_reply": "2023-06-14T03:08:45.909309Z"
    },
    "executionInfo": {
     "elapsed": 5,
     "status": "ok",
     "timestamp": 1686711395005,
     "user": {
      "displayName": "Venu V",
      "userId": "08098080155789612531"
     },
     "user_tz": -330
    },
    "id": "Wguu5f9v1TPE",
    "papermill": {
     "duration": 0.034628,
     "end_time": "2023-06-14T03:08:45.912336",
     "exception": false,
     "start_time": "2023-06-14T03:08:45.877708",
     "status": "completed"
    },
    "tags": []
   },
   "outputs": [],
   "source": [
    "x_new = df_new.drop(['quality'], axis = 1)"
   ]
  },
  {
   "cell_type": "code",
   "execution_count": 51,
   "id": "179ac05c",
   "metadata": {
    "execution": {
     "iopub.execute_input": "2023-06-14T03:08:45.965995Z",
     "iopub.status.busy": "2023-06-14T03:08:45.965598Z",
     "iopub.status.idle": "2023-06-14T03:08:45.974700Z",
     "shell.execute_reply": "2023-06-14T03:08:45.973364Z"
    },
    "executionInfo": {
     "elapsed": 5,
     "status": "ok",
     "timestamp": 1686711406494,
     "user": {
      "displayName": "Venu V",
      "userId": "08098080155789612531"
     },
     "user_tz": -330
    },
    "id": "KZPJvho41WOt",
    "papermill": {
     "duration": 0.038854,
     "end_time": "2023-06-14T03:08:45.977100",
     "exception": false,
     "start_time": "2023-06-14T03:08:45.938246",
     "status": "completed"
    },
    "tags": []
   },
   "outputs": [],
   "source": [
    "x_new = ss.fit_transform(x_new)"
   ]
  },
  {
   "cell_type": "code",
   "execution_count": 52,
   "id": "b5468d9a",
   "metadata": {
    "execution": {
     "iopub.execute_input": "2023-06-14T03:08:46.030845Z",
     "iopub.status.busy": "2023-06-14T03:08:46.030429Z",
     "iopub.status.idle": "2023-06-14T03:08:46.035838Z",
     "shell.execute_reply": "2023-06-14T03:08:46.034767Z"
    },
    "executionInfo": {
     "elapsed": 5,
     "status": "ok",
     "timestamp": 1686711419857,
     "user": {
      "displayName": "Venu V",
      "userId": "08098080155789612531"
     },
     "user_tz": -330
    },
    "id": "HJ9dA-wt1ZO7",
    "papermill": {
     "duration": 0.035259,
     "end_time": "2023-06-14T03:08:46.038403",
     "exception": false,
     "start_time": "2023-06-14T03:08:46.003144",
     "status": "completed"
    },
    "tags": []
   },
   "outputs": [],
   "source": [
    "y_pred_new = svc.predict(x_new)"
   ]
  },
  {
   "cell_type": "code",
   "execution_count": 53,
   "id": "dcfd3a1e",
   "metadata": {
    "execution": {
     "iopub.execute_input": "2023-06-14T03:08:46.092222Z",
     "iopub.status.busy": "2023-06-14T03:08:46.091795Z",
     "iopub.status.idle": "2023-06-14T03:08:46.098885Z",
     "shell.execute_reply": "2023-06-14T03:08:46.097697Z"
    },
    "executionInfo": {
     "elapsed": 458,
     "status": "ok",
     "timestamp": 1686711432510,
     "user": {
      "displayName": "Venu V",
      "userId": "08098080155789612531"
     },
     "user_tz": -330
    },
    "id": "o5zoLQ5a1eRH",
    "outputId": "65b8fa01-739c-4f40-9a63-fc250dfdb38e",
    "papermill": {
     "duration": 0.036905,
     "end_time": "2023-06-14T03:08:46.101192",
     "exception": false,
     "start_time": "2023-06-14T03:08:46.064287",
     "status": "completed"
    },
    "tags": []
   },
   "outputs": [
    {
     "data": {
      "text/plain": [
       "array([1])"
      ]
     },
     "execution_count": 53,
     "metadata": {},
     "output_type": "execute_result"
    }
   ],
   "source": [
    "y_pred_new"
   ]
  }
 ],
 "metadata": {
  "kernelspec": {
   "display_name": "Python 3",
   "language": "python",
   "name": "python3"
  },
  "language_info": {
   "codemirror_mode": {
    "name": "ipython",
    "version": 3
   },
   "file_extension": ".py",
   "mimetype": "text/x-python",
   "name": "python",
   "nbconvert_exporter": "python",
   "pygments_lexer": "ipython3",
   "version": "3.10.10"
  },
  "papermill": {
   "default_parameters": {},
   "duration": 19.063882,
   "end_time": "2023-06-14T03:08:47.049673",
   "environment_variables": {},
   "exception": null,
   "input_path": "__notebook__.ipynb",
   "output_path": "__notebook__.ipynb",
   "parameters": {},
   "start_time": "2023-06-14T03:08:27.985791",
   "version": "2.4.0"
  }
 },
 "nbformat": 4,
 "nbformat_minor": 5
}
